{
  "nbformat": 4,
  "nbformat_minor": 0,
  "metadata": {
    "colab": {
      "provenance": [],
      "gpuType": "T4"
    },
    "kernelspec": {
      "name": "python3",
      "display_name": "Python 3"
    },
    "language_info": {
      "name": "python"
    },
    "widgets": {
      "application/vnd.jupyter.widget-state+json": {
        "9dbb2fe92ee64eacbb00366ca055ffa4": {
          "model_module": "@jupyter-widgets/controls",
          "model_name": "VBoxModel",
          "model_module_version": "1.5.0",
          "state": {
            "_dom_classes": [],
            "_model_module": "@jupyter-widgets/controls",
            "_model_module_version": "1.5.0",
            "_model_name": "VBoxModel",
            "_view_count": null,
            "_view_module": "@jupyter-widgets/controls",
            "_view_module_version": "1.5.0",
            "_view_name": "VBoxView",
            "box_style": "",
            "children": [],
            "layout": "IPY_MODEL_1e15a014c2b34f9bb820897c863dbb06"
          }
        },
        "b2688b072bf1472d91890d023a24dec3": {
          "model_module": "@jupyter-widgets/controls",
          "model_name": "HTMLModel",
          "model_module_version": "1.5.0",
          "state": {
            "_dom_classes": [],
            "_model_module": "@jupyter-widgets/controls",
            "_model_module_version": "1.5.0",
            "_model_name": "HTMLModel",
            "_view_count": null,
            "_view_module": "@jupyter-widgets/controls",
            "_view_module_version": "1.5.0",
            "_view_name": "HTMLView",
            "description": "",
            "description_tooltip": null,
            "layout": "IPY_MODEL_3e57b17539d94a809d28e3545455864c",
            "placeholder": "​",
            "style": "IPY_MODEL_03e36f53dece433e98a1ede6be7fc275",
            "value": "<center> <img\nsrc=https://huggingface.co/front/assets/huggingface_logo-noborder.svg\nalt='Hugging Face'> <br> Copy a token from <a\nhref=\"https://huggingface.co/settings/tokens\" target=\"_blank\">your Hugging Face\ntokens page</a> and paste it below. <br> Immediately click login after copying\nyour token or it might be stored in plain text in this notebook file. </center>"
          }
        },
        "524005a83c524df9950635d9f3a7b4a6": {
          "model_module": "@jupyter-widgets/controls",
          "model_name": "PasswordModel",
          "model_module_version": "1.5.0",
          "state": {
            "_dom_classes": [],
            "_model_module": "@jupyter-widgets/controls",
            "_model_module_version": "1.5.0",
            "_model_name": "PasswordModel",
            "_view_count": null,
            "_view_module": "@jupyter-widgets/controls",
            "_view_module_version": "1.5.0",
            "_view_name": "PasswordView",
            "continuous_update": true,
            "description": "Token:",
            "description_tooltip": null,
            "disabled": false,
            "layout": "IPY_MODEL_c28043a6becb456984c4512888f7bed2",
            "placeholder": "​",
            "style": "IPY_MODEL_04f772a8272e499ba181e6e0e90cd491",
            "value": ""
          }
        },
        "dd244395b27942ac9a132fa4fbc725e3": {
          "model_module": "@jupyter-widgets/controls",
          "model_name": "CheckboxModel",
          "model_module_version": "1.5.0",
          "state": {
            "_dom_classes": [],
            "_model_module": "@jupyter-widgets/controls",
            "_model_module_version": "1.5.0",
            "_model_name": "CheckboxModel",
            "_view_count": null,
            "_view_module": "@jupyter-widgets/controls",
            "_view_module_version": "1.5.0",
            "_view_name": "CheckboxView",
            "description": "Add token as git credential?",
            "description_tooltip": null,
            "disabled": false,
            "indent": true,
            "layout": "IPY_MODEL_84851846fff04b2c9ceec7678a7746ad",
            "style": "IPY_MODEL_307c45560e9f4b51bc00a7e33e78a790",
            "value": false
          }
        },
        "56bccd124e3e45cd8fc9c90ca2a9d7e5": {
          "model_module": "@jupyter-widgets/controls",
          "model_name": "ButtonModel",
          "model_module_version": "1.5.0",
          "state": {
            "_dom_classes": [],
            "_model_module": "@jupyter-widgets/controls",
            "_model_module_version": "1.5.0",
            "_model_name": "ButtonModel",
            "_view_count": null,
            "_view_module": "@jupyter-widgets/controls",
            "_view_module_version": "1.5.0",
            "_view_name": "ButtonView",
            "button_style": "",
            "description": "Login",
            "disabled": false,
            "icon": "",
            "layout": "IPY_MODEL_9a647263107e4de9a598ce872dbe22d2",
            "style": "IPY_MODEL_a647ae80c584416d997e497daf1f016a",
            "tooltip": ""
          }
        },
        "540c3fedae584f39aa776a173186570d": {
          "model_module": "@jupyter-widgets/controls",
          "model_name": "HTMLModel",
          "model_module_version": "1.5.0",
          "state": {
            "_dom_classes": [],
            "_model_module": "@jupyter-widgets/controls",
            "_model_module_version": "1.5.0",
            "_model_name": "HTMLModel",
            "_view_count": null,
            "_view_module": "@jupyter-widgets/controls",
            "_view_module_version": "1.5.0",
            "_view_name": "HTMLView",
            "description": "",
            "description_tooltip": null,
            "layout": "IPY_MODEL_7eede3c0e23544f3a8bab99137b1cd66",
            "placeholder": "​",
            "style": "IPY_MODEL_138c90ae1b2446eba03805f835998c5d",
            "value": "\n<b>Pro Tip:</b> If you don't already have one, you can create a dedicated\n'notebooks' token with 'write' access, that you can then easily reuse for all\nnotebooks. </center>"
          }
        },
        "1e15a014c2b34f9bb820897c863dbb06": {
          "model_module": "@jupyter-widgets/base",
          "model_name": "LayoutModel",
          "model_module_version": "1.2.0",
          "state": {
            "_model_module": "@jupyter-widgets/base",
            "_model_module_version": "1.2.0",
            "_model_name": "LayoutModel",
            "_view_count": null,
            "_view_module": "@jupyter-widgets/base",
            "_view_module_version": "1.2.0",
            "_view_name": "LayoutView",
            "align_content": null,
            "align_items": "center",
            "align_self": null,
            "border": null,
            "bottom": null,
            "display": "flex",
            "flex": null,
            "flex_flow": "column",
            "grid_area": null,
            "grid_auto_columns": null,
            "grid_auto_flow": null,
            "grid_auto_rows": null,
            "grid_column": null,
            "grid_gap": null,
            "grid_row": null,
            "grid_template_areas": null,
            "grid_template_columns": null,
            "grid_template_rows": null,
            "height": null,
            "justify_content": null,
            "justify_items": null,
            "left": null,
            "margin": null,
            "max_height": null,
            "max_width": null,
            "min_height": null,
            "min_width": null,
            "object_fit": null,
            "object_position": null,
            "order": null,
            "overflow": null,
            "overflow_x": null,
            "overflow_y": null,
            "padding": null,
            "right": null,
            "top": null,
            "visibility": null,
            "width": "50%"
          }
        },
        "3e57b17539d94a809d28e3545455864c": {
          "model_module": "@jupyter-widgets/base",
          "model_name": "LayoutModel",
          "model_module_version": "1.2.0",
          "state": {
            "_model_module": "@jupyter-widgets/base",
            "_model_module_version": "1.2.0",
            "_model_name": "LayoutModel",
            "_view_count": null,
            "_view_module": "@jupyter-widgets/base",
            "_view_module_version": "1.2.0",
            "_view_name": "LayoutView",
            "align_content": null,
            "align_items": null,
            "align_self": null,
            "border": null,
            "bottom": null,
            "display": null,
            "flex": null,
            "flex_flow": null,
            "grid_area": null,
            "grid_auto_columns": null,
            "grid_auto_flow": null,
            "grid_auto_rows": null,
            "grid_column": null,
            "grid_gap": null,
            "grid_row": null,
            "grid_template_areas": null,
            "grid_template_columns": null,
            "grid_template_rows": null,
            "height": null,
            "justify_content": null,
            "justify_items": null,
            "left": null,
            "margin": null,
            "max_height": null,
            "max_width": null,
            "min_height": null,
            "min_width": null,
            "object_fit": null,
            "object_position": null,
            "order": null,
            "overflow": null,
            "overflow_x": null,
            "overflow_y": null,
            "padding": null,
            "right": null,
            "top": null,
            "visibility": null,
            "width": null
          }
        },
        "03e36f53dece433e98a1ede6be7fc275": {
          "model_module": "@jupyter-widgets/controls",
          "model_name": "DescriptionStyleModel",
          "model_module_version": "1.5.0",
          "state": {
            "_model_module": "@jupyter-widgets/controls",
            "_model_module_version": "1.5.0",
            "_model_name": "DescriptionStyleModel",
            "_view_count": null,
            "_view_module": "@jupyter-widgets/base",
            "_view_module_version": "1.2.0",
            "_view_name": "StyleView",
            "description_width": ""
          }
        },
        "c28043a6becb456984c4512888f7bed2": {
          "model_module": "@jupyter-widgets/base",
          "model_name": "LayoutModel",
          "model_module_version": "1.2.0",
          "state": {
            "_model_module": "@jupyter-widgets/base",
            "_model_module_version": "1.2.0",
            "_model_name": "LayoutModel",
            "_view_count": null,
            "_view_module": "@jupyter-widgets/base",
            "_view_module_version": "1.2.0",
            "_view_name": "LayoutView",
            "align_content": null,
            "align_items": null,
            "align_self": null,
            "border": null,
            "bottom": null,
            "display": null,
            "flex": null,
            "flex_flow": null,
            "grid_area": null,
            "grid_auto_columns": null,
            "grid_auto_flow": null,
            "grid_auto_rows": null,
            "grid_column": null,
            "grid_gap": null,
            "grid_row": null,
            "grid_template_areas": null,
            "grid_template_columns": null,
            "grid_template_rows": null,
            "height": null,
            "justify_content": null,
            "justify_items": null,
            "left": null,
            "margin": null,
            "max_height": null,
            "max_width": null,
            "min_height": null,
            "min_width": null,
            "object_fit": null,
            "object_position": null,
            "order": null,
            "overflow": null,
            "overflow_x": null,
            "overflow_y": null,
            "padding": null,
            "right": null,
            "top": null,
            "visibility": null,
            "width": null
          }
        },
        "04f772a8272e499ba181e6e0e90cd491": {
          "model_module": "@jupyter-widgets/controls",
          "model_name": "DescriptionStyleModel",
          "model_module_version": "1.5.0",
          "state": {
            "_model_module": "@jupyter-widgets/controls",
            "_model_module_version": "1.5.0",
            "_model_name": "DescriptionStyleModel",
            "_view_count": null,
            "_view_module": "@jupyter-widgets/base",
            "_view_module_version": "1.2.0",
            "_view_name": "StyleView",
            "description_width": ""
          }
        },
        "84851846fff04b2c9ceec7678a7746ad": {
          "model_module": "@jupyter-widgets/base",
          "model_name": "LayoutModel",
          "model_module_version": "1.2.0",
          "state": {
            "_model_module": "@jupyter-widgets/base",
            "_model_module_version": "1.2.0",
            "_model_name": "LayoutModel",
            "_view_count": null,
            "_view_module": "@jupyter-widgets/base",
            "_view_module_version": "1.2.0",
            "_view_name": "LayoutView",
            "align_content": null,
            "align_items": null,
            "align_self": null,
            "border": null,
            "bottom": null,
            "display": null,
            "flex": null,
            "flex_flow": null,
            "grid_area": null,
            "grid_auto_columns": null,
            "grid_auto_flow": null,
            "grid_auto_rows": null,
            "grid_column": null,
            "grid_gap": null,
            "grid_row": null,
            "grid_template_areas": null,
            "grid_template_columns": null,
            "grid_template_rows": null,
            "height": null,
            "justify_content": null,
            "justify_items": null,
            "left": null,
            "margin": null,
            "max_height": null,
            "max_width": null,
            "min_height": null,
            "min_width": null,
            "object_fit": null,
            "object_position": null,
            "order": null,
            "overflow": null,
            "overflow_x": null,
            "overflow_y": null,
            "padding": null,
            "right": null,
            "top": null,
            "visibility": null,
            "width": null
          }
        },
        "307c45560e9f4b51bc00a7e33e78a790": {
          "model_module": "@jupyter-widgets/controls",
          "model_name": "DescriptionStyleModel",
          "model_module_version": "1.5.0",
          "state": {
            "_model_module": "@jupyter-widgets/controls",
            "_model_module_version": "1.5.0",
            "_model_name": "DescriptionStyleModel",
            "_view_count": null,
            "_view_module": "@jupyter-widgets/base",
            "_view_module_version": "1.2.0",
            "_view_name": "StyleView",
            "description_width": ""
          }
        },
        "9a647263107e4de9a598ce872dbe22d2": {
          "model_module": "@jupyter-widgets/base",
          "model_name": "LayoutModel",
          "model_module_version": "1.2.0",
          "state": {
            "_model_module": "@jupyter-widgets/base",
            "_model_module_version": "1.2.0",
            "_model_name": "LayoutModel",
            "_view_count": null,
            "_view_module": "@jupyter-widgets/base",
            "_view_module_version": "1.2.0",
            "_view_name": "LayoutView",
            "align_content": null,
            "align_items": null,
            "align_self": null,
            "border": null,
            "bottom": null,
            "display": null,
            "flex": null,
            "flex_flow": null,
            "grid_area": null,
            "grid_auto_columns": null,
            "grid_auto_flow": null,
            "grid_auto_rows": null,
            "grid_column": null,
            "grid_gap": null,
            "grid_row": null,
            "grid_template_areas": null,
            "grid_template_columns": null,
            "grid_template_rows": null,
            "height": null,
            "justify_content": null,
            "justify_items": null,
            "left": null,
            "margin": null,
            "max_height": null,
            "max_width": null,
            "min_height": null,
            "min_width": null,
            "object_fit": null,
            "object_position": null,
            "order": null,
            "overflow": null,
            "overflow_x": null,
            "overflow_y": null,
            "padding": null,
            "right": null,
            "top": null,
            "visibility": null,
            "width": null
          }
        },
        "a647ae80c584416d997e497daf1f016a": {
          "model_module": "@jupyter-widgets/controls",
          "model_name": "ButtonStyleModel",
          "model_module_version": "1.5.0",
          "state": {
            "_model_module": "@jupyter-widgets/controls",
            "_model_module_version": "1.5.0",
            "_model_name": "ButtonStyleModel",
            "_view_count": null,
            "_view_module": "@jupyter-widgets/base",
            "_view_module_version": "1.2.0",
            "_view_name": "StyleView",
            "button_color": null,
            "font_weight": ""
          }
        },
        "7eede3c0e23544f3a8bab99137b1cd66": {
          "model_module": "@jupyter-widgets/base",
          "model_name": "LayoutModel",
          "model_module_version": "1.2.0",
          "state": {
            "_model_module": "@jupyter-widgets/base",
            "_model_module_version": "1.2.0",
            "_model_name": "LayoutModel",
            "_view_count": null,
            "_view_module": "@jupyter-widgets/base",
            "_view_module_version": "1.2.0",
            "_view_name": "LayoutView",
            "align_content": null,
            "align_items": null,
            "align_self": null,
            "border": null,
            "bottom": null,
            "display": null,
            "flex": null,
            "flex_flow": null,
            "grid_area": null,
            "grid_auto_columns": null,
            "grid_auto_flow": null,
            "grid_auto_rows": null,
            "grid_column": null,
            "grid_gap": null,
            "grid_row": null,
            "grid_template_areas": null,
            "grid_template_columns": null,
            "grid_template_rows": null,
            "height": null,
            "justify_content": null,
            "justify_items": null,
            "left": null,
            "margin": null,
            "max_height": null,
            "max_width": null,
            "min_height": null,
            "min_width": null,
            "object_fit": null,
            "object_position": null,
            "order": null,
            "overflow": null,
            "overflow_x": null,
            "overflow_y": null,
            "padding": null,
            "right": null,
            "top": null,
            "visibility": null,
            "width": null
          }
        },
        "138c90ae1b2446eba03805f835998c5d": {
          "model_module": "@jupyter-widgets/controls",
          "model_name": "DescriptionStyleModel",
          "model_module_version": "1.5.0",
          "state": {
            "_model_module": "@jupyter-widgets/controls",
            "_model_module_version": "1.5.0",
            "_model_name": "DescriptionStyleModel",
            "_view_count": null,
            "_view_module": "@jupyter-widgets/base",
            "_view_module_version": "1.2.0",
            "_view_name": "StyleView",
            "description_width": ""
          }
        },
        "5916f8d92a634243a7ce18c00cac7b29": {
          "model_module": "@jupyter-widgets/controls",
          "model_name": "LabelModel",
          "model_module_version": "1.5.0",
          "state": {
            "_dom_classes": [],
            "_model_module": "@jupyter-widgets/controls",
            "_model_module_version": "1.5.0",
            "_model_name": "LabelModel",
            "_view_count": null,
            "_view_module": "@jupyter-widgets/controls",
            "_view_module_version": "1.5.0",
            "_view_name": "LabelView",
            "description": "",
            "description_tooltip": null,
            "layout": "IPY_MODEL_f16007c6ef8544a7ac9e90f84cee2d25",
            "placeholder": "​",
            "style": "IPY_MODEL_a38a1bb6a9a8403d960b314534c982f4",
            "value": "Connecting..."
          }
        },
        "f16007c6ef8544a7ac9e90f84cee2d25": {
          "model_module": "@jupyter-widgets/base",
          "model_name": "LayoutModel",
          "model_module_version": "1.2.0",
          "state": {
            "_model_module": "@jupyter-widgets/base",
            "_model_module_version": "1.2.0",
            "_model_name": "LayoutModel",
            "_view_count": null,
            "_view_module": "@jupyter-widgets/base",
            "_view_module_version": "1.2.0",
            "_view_name": "LayoutView",
            "align_content": null,
            "align_items": null,
            "align_self": null,
            "border": null,
            "bottom": null,
            "display": null,
            "flex": null,
            "flex_flow": null,
            "grid_area": null,
            "grid_auto_columns": null,
            "grid_auto_flow": null,
            "grid_auto_rows": null,
            "grid_column": null,
            "grid_gap": null,
            "grid_row": null,
            "grid_template_areas": null,
            "grid_template_columns": null,
            "grid_template_rows": null,
            "height": null,
            "justify_content": null,
            "justify_items": null,
            "left": null,
            "margin": null,
            "max_height": null,
            "max_width": null,
            "min_height": null,
            "min_width": null,
            "object_fit": null,
            "object_position": null,
            "order": null,
            "overflow": null,
            "overflow_x": null,
            "overflow_y": null,
            "padding": null,
            "right": null,
            "top": null,
            "visibility": null,
            "width": null
          }
        },
        "a38a1bb6a9a8403d960b314534c982f4": {
          "model_module": "@jupyter-widgets/controls",
          "model_name": "DescriptionStyleModel",
          "model_module_version": "1.5.0",
          "state": {
            "_model_module": "@jupyter-widgets/controls",
            "_model_module_version": "1.5.0",
            "_model_name": "DescriptionStyleModel",
            "_view_count": null,
            "_view_module": "@jupyter-widgets/base",
            "_view_module_version": "1.2.0",
            "_view_name": "StyleView",
            "description_width": ""
          }
        }
      }
    },
    "accelerator": "GPU"
  },
  "cells": [
    {
      "cell_type": "markdown",
      "source": [
        "#**TEXT CLASSIFICATION HATE SPEECH DATASET**"
      ],
      "metadata": {
        "id": "nNj5ZfRKmGD1"
      }
    },
    {
      "cell_type": "markdown",
      "source": [
        "The dataset is uploaded directly from a HuggingFace directory. The link below  \n",
        "shows the link dataset\n",
        "https://huggingface.co/datasets/manueltonneau/spanish-hate-speech-superset\n",
        "\n",
        "This dataset is a binary classification dataset that contains Spanish-language social media posts labeled for hate speech. Each instance is categorized as either:\n",
        "\n",
        "0.00 → Non-hate speech\n",
        "\n",
        "1.00 → Hate speech\n",
        "\n",
        "\n"
      ],
      "metadata": {
        "id": "3M9ZnN4t9MuO"
      }
    },
    {
      "cell_type": "markdown",
      "source": [
        "# Load dataset for dataframe"
      ],
      "metadata": {
        "id": "hAmslwA5TSJK"
      }
    },
    {
      "cell_type": "markdown",
      "source": [
        "Download HuggingFace dataset directly from the Internet"
      ],
      "metadata": {
        "id": "8El99V1NgQj6"
      }
    },
    {
      "cell_type": "code",
      "source": [
        "from huggingface_hub import login\n",
        "import os\n",
        "\n",
        "def login_huggingface(token):\n",
        "    # Log in to Hugging Face\n",
        "    login(token)\n",
        "    print(\"Logged in successfully!\")\n",
        "\n",
        "if __name__ == \"__main__\":\n",
        "    token = os.getenv(\"HF_TOKEN\")\n",
        "    login_huggingface(token)\n"
      ],
      "metadata": {
        "id": "LMzOzH5Ue2Kr",
        "outputId": "162e4ab9-ea2b-4dc2-c9c9-39e6c75bdbf5",
        "colab": {
          "base_uri": "https://localhost:8080/",
          "height": 35,
          "referenced_widgets": [
            "9dbb2fe92ee64eacbb00366ca055ffa4",
            "b2688b072bf1472d91890d023a24dec3",
            "524005a83c524df9950635d9f3a7b4a6",
            "dd244395b27942ac9a132fa4fbc725e3",
            "56bccd124e3e45cd8fc9c90ca2a9d7e5",
            "540c3fedae584f39aa776a173186570d",
            "1e15a014c2b34f9bb820897c863dbb06",
            "3e57b17539d94a809d28e3545455864c",
            "03e36f53dece433e98a1ede6be7fc275",
            "c28043a6becb456984c4512888f7bed2",
            "04f772a8272e499ba181e6e0e90cd491",
            "84851846fff04b2c9ceec7678a7746ad",
            "307c45560e9f4b51bc00a7e33e78a790",
            "9a647263107e4de9a598ce872dbe22d2",
            "a647ae80c584416d997e497daf1f016a",
            "7eede3c0e23544f3a8bab99137b1cd66",
            "138c90ae1b2446eba03805f835998c5d",
            "5916f8d92a634243a7ce18c00cac7b29",
            "f16007c6ef8544a7ac9e90f84cee2d25",
            "a38a1bb6a9a8403d960b314534c982f4"
          ]
        }
      },
      "execution_count": null,
      "outputs": [
        {
          "output_type": "display_data",
          "data": {
            "text/plain": [
              "VBox(children=(HTML(value='<center> <img\\nsrc=https://huggingface.co/front/assets/huggingface_logo-noborder.sv…"
            ],
            "application/vnd.jupyter.widget-view+json": {
              "version_major": 2,
              "version_minor": 0,
              "model_id": "9dbb2fe92ee64eacbb00366ca055ffa4"
            }
          },
          "metadata": {}
        },
        {
          "output_type": "stream",
          "name": "stdout",
          "text": [
            "Logged in successfully!\n"
          ]
        }
      ]
    },
    {
      "cell_type": "code",
      "source": [
        "#HuggingFace token needed for further processing"
      ],
      "metadata": {
        "id": "9l2s8n5Q1eiw"
      },
      "execution_count": null,
      "outputs": []
    },
    {
      "cell_type": "code",
      "source": [
        "import pandas as pd\n",
        "\n",
        "df = pd.read_csv(\"hf://datasets/manueltonneau/spanish-hate-speech-superset/es_hf_102024.csv\")"
      ],
      "metadata": {
        "id": "FMhmNJbE8B61",
        "colab": {
          "base_uri": "https://localhost:8080/"
        },
        "outputId": "409ff141-3308-4a1d-ca5f-f970a6860993"
      },
      "execution_count": null,
      "outputs": [
        {
          "output_type": "stream",
          "name": "stderr",
          "text": [
            "/usr/local/lib/python3.11/dist-packages/huggingface_hub/utils/_auth.py:94: UserWarning: \n",
            "The secret `HF_TOKEN` does not exist in your Colab secrets.\n",
            "To authenticate with the Hugging Face Hub, create a token in your settings tab (https://huggingface.co/settings/tokens), set it as secret in your Google Colab and restart your session.\n",
            "You will be able to reuse this secret in all of your notebooks.\n",
            "Please note that authentication is recommended but still optional to access public models or datasets.\n",
            "  warnings.warn(\n"
          ]
        }
      ]
    },
    {
      "cell_type": "code",
      "source": [
        "print(df.columns)"
      ],
      "metadata": {
        "colab": {
          "base_uri": "https://localhost:8080/"
        },
        "id": "sPRtjIi-8-e-",
        "outputId": "f51d6d2a-6ff4-4f8f-afc3-6ba1011b270b"
      },
      "execution_count": null,
      "outputs": [
        {
          "output_type": "stream",
          "name": "stdout",
          "text": [
            "Index(['text', 'labels', 'source', 'dataset', 'nb_annotators', 'tweet_id',\n",
            "       'post_author_country_location'],\n",
            "      dtype='object')\n"
          ]
        }
      ]
    },
    {
      "cell_type": "markdown",
      "source": [
        "Checking the dataset"
      ],
      "metadata": {
        "id": "H8ejdPU8gZQC"
      }
    },
    {
      "cell_type": "code",
      "source": [
        "print(df.head)"
      ],
      "metadata": {
        "colab": {
          "base_uri": "https://localhost:8080/"
        },
        "id": "N0OzgVAV9Dh5",
        "outputId": "e9a6fa31-f783-4576-dcb5-94458fce86d3"
      },
      "execution_count": null,
      "outputs": [
        {
          "output_type": "stream",
          "name": "stdout",
          "text": [
            "<bound method NDFrame.head of                                                     text  labels   source  \\\n",
            "0      Eran tan pero tan feministas que invisibilizab...     0.0  Twitter   \n",
            "1      @USER @USER @USER Me carga en lo q se convirti...     0.0  Twitter   \n",
            "2      , ¿Sabrán las femiorcas como @USER y todo el f...     1.0  Twitter   \n",
            "3      @USER @USER @USER @USER Una vecina que nada te...     0.0  Twitter   \n",
            "4       @USER Debajo de que piedra estaba ese flaiterio?     0.0  Twitter   \n",
            "...                                                  ...     ...      ...   \n",
            "29850  Un debate interesante ¿las mujeres occidentale...     0.0  Twitter   \n",
            "29851  @USER @USER De todo esto y leyendo las respues...     0.0  Twitter   \n",
            "29852  @USER @USER la reina respeta la religión musul...     0.0  Twitter   \n",
            "29853  \"Las decisiones económicas son exclusivas del ...     0.0  Twitter   \n",
            "29854             @USER y pq te consideras de gibraltar?     0.0  Twitter   \n",
            "\n",
            "        dataset  nb_annotators      tweet_id post_author_country_location  \n",
            "0       chileno              3  1.401281e+18                      unknown  \n",
            "1       chileno              3  1.402708e+18                        Chile  \n",
            "2       chileno              3  1.402623e+18                      unknown  \n",
            "3       chileno              3  1.402472e+18                        Chile  \n",
            "4       chileno              3  1.401715e+18                      unknown  \n",
            "...         ...            ...           ...                          ...  \n",
            "29850  hascosva              3           NaN                      unknown  \n",
            "29851  hascosva              3           NaN                      unknown  \n",
            "29852  hascosva              3           NaN                      unknown  \n",
            "29853  hascosva              3           NaN                      unknown  \n",
            "29854  hascosva              3           NaN                      unknown  \n",
            "\n",
            "[29855 rows x 7 columns]>\n"
          ]
        }
      ]
    },
    {
      "cell_type": "markdown",
      "source": [
        "Remove unnecessary columns and keep the columns \"text\" and \"labels\", as the main information is in these two columns."
      ],
      "metadata": {
        "id": "AEnYRcDVgblU"
      }
    },
    {
      "cell_type": "code",
      "source": [
        "columns_to_drop = ['source', 'nb_annotators', 'tweet_id', 'post_author_country_location', 'dataset']\n",
        "df = df.drop(columns=columns_to_drop)\n",
        "\n",
        "print(df.head(20))\n"
      ],
      "metadata": {
        "colab": {
          "base_uri": "https://localhost:8080/"
        },
        "id": "FjNlHduZulB6",
        "outputId": "37816ef4-9622-4a56-895f-5952f0b60ec6"
      },
      "execution_count": null,
      "outputs": [
        {
          "output_type": "stream",
          "name": "stdout",
          "text": [
            "                                                 text  labels\n",
            "0   Eran tan pero tan feministas que invisibilizab...     0.0\n",
            "1   @USER @USER @USER Me carga en lo q se convirti...     0.0\n",
            "2   , ¿Sabrán las femiorcas como @USER y todo el f...     1.0\n",
            "3   @USER @USER @USER @USER Una vecina que nada te...     0.0\n",
            "4    @USER Debajo de que piedra estaba ese flaiterio?     0.0\n",
            "5   @USER Esto lo vengo diciendo desde el voto obl...     0.0\n",
            "6   Que un militar te diga:\"amigo mejor entre la b...     0.0\n",
            "7   @USER Por esto lados muchos flaites de pelo pi...     0.0\n",
            "8   @USER Haber, pensando en la cantidad de flaite...     0.0\n",
            "9   @USER @USER @USER @USER Entiendo. Haces refere...     0.0\n",
            "10  @USER @USER Jueron loh pacohhh..típica frase d...     0.0\n",
            "11  @USER @USER FUERA LOS FLAITES !!!\\nFUERA LOS 3...     0.0\n",
            "12  @USER Todos los flaites pueden quedarse en su ...     0.0\n",
            "13                  @USER Pero alla no tienen flaites     0.0\n",
            "14  @USER No será musho? No se trata de “rotos” cr...     0.0\n",
            "15  Los descriteriados de la plaza ñuñoa son igual...     0.0\n",
            "16  @USER Csm 🤣🤣🤣🤣,y los flaites no entenderán nad...     0.0\n",
            "17  @USER @USER 😂😂😂😂 espero que la institución que...     0.0\n",
            "18  @USER Se está iluminando, esto es resultado de...     0.0\n",
            "19  Las dos cagadas de la cabeza, ordinarias, pica...     0.0\n"
          ]
        }
      ]
    },
    {
      "cell_type": "markdown",
      "source": [
        "Check shape of our current dataset"
      ],
      "metadata": {
        "id": "gpzgoMMqgoFy"
      }
    },
    {
      "cell_type": "code",
      "source": [
        "print(df.shape)"
      ],
      "metadata": {
        "colab": {
          "base_uri": "https://localhost:8080/"
        },
        "id": "_RUr60HiuzMy",
        "outputId": "8d9b5df9-0b2f-4b95-b83f-1f94d7f44e6e"
      },
      "execution_count": null,
      "outputs": [
        {
          "output_type": "stream",
          "name": "stdout",
          "text": [
            "(29855, 2)\n"
          ]
        }
      ]
    },
    {
      "cell_type": "markdown",
      "source": [
        "Mount Google Drive content"
      ],
      "metadata": {
        "id": "_0UxAxyqgqki"
      }
    },
    {
      "cell_type": "code",
      "source": [
        "from google.colab import drive\n",
        "drive.mount('/content/drive')"
      ],
      "metadata": {
        "colab": {
          "base_uri": "https://localhost:8080/"
        },
        "id": "PhzHpYILwegV",
        "outputId": "601f9529-a671-4335-f00a-dd738b89b2c6"
      },
      "execution_count": null,
      "outputs": [
        {
          "output_type": "stream",
          "name": "stdout",
          "text": [
            "Mounted at /content/drive\n"
          ]
        }
      ]
    },
    {
      "cell_type": "markdown",
      "source": [
        "Save the dataset in a CSV file"
      ],
      "metadata": {
        "id": "HNDXzfUZguCC"
      }
    },
    {
      "cell_type": "code",
      "source": [
        "save_path = \"/content/drive/MyDrive/Colab Notebooks/FinalProjectApps/dataset/hatespeech_dataset.csv\"\n",
        "\n",
        "# Save the DataFrame as a CSV file\n",
        "df.to_csv(save_path, index=False)\n",
        "\n",
        "print(f\"Dataset saved to: {save_path}\")\n"
      ],
      "metadata": {
        "colab": {
          "base_uri": "https://localhost:8080/"
        },
        "id": "0IEVgc8qwkFY",
        "outputId": "93169280-24ba-4592-defa-ded13ce6a2cd"
      },
      "execution_count": null,
      "outputs": [
        {
          "output_type": "stream",
          "name": "stdout",
          "text": [
            "Dataset saved to: /content/drive/MyDrive/Colab Notebooks/FinalProjectApps/dataset/hatespeech_dataset.csv\n"
          ]
        }
      ]
    },
    {
      "cell_type": "code",
      "source": [
        "# Display the distribution of the 'labels' column\n",
        "label_distribution = df['labels'].value_counts()\n",
        "\n",
        "# Print the distribution\n",
        "print(\"Class distribution:\")\n",
        "print(label_distribution)"
      ],
      "metadata": {
        "id": "7b4UBO4GA5pp",
        "outputId": "19fef2c2-7aea-4bc5-82bd-9b58db70b134",
        "colab": {
          "base_uri": "https://localhost:8080/"
        }
      },
      "execution_count": null,
      "outputs": [
        {
          "output_type": "stream",
          "name": "stdout",
          "text": [
            "Class distribution:\n",
            "labels\n",
            "0.0    22590\n",
            "1.0     7265\n",
            "Name: count, dtype: int64\n"
          ]
        }
      ]
    },
    {
      "cell_type": "markdown",
      "source": [
        "Load the dataset using load_data function and then apply the clean_up dataset to further processing"
      ],
      "metadata": {
        "id": "vqh8mqnzgx6C"
      }
    },
    {
      "cell_type": "code",
      "source": [
        "def load_data(fnames):\n",
        "    \"\"\"\n",
        "    Load the files located at the paths specified in the 'fnames' list.\n",
        "    Once loaded, concatenates them to form a single DataFrame.\n",
        "    Finally, extracts the unique values from the 'Target' column and returns\n",
        "    the DataFrame along with the list of possible labels.\n",
        "\n",
        "    :param fnames: List of file paths to CSV files.\n",
        "    :return: Tuple (concatenated DataFrame, list of unique labels in 'Target').\n",
        "    \"\"\"\n",
        "    data = []\n",
        "    for fname in fnames:\n",
        "        data.append(pd.read_csv(fname, sep=',', encoding='utf-8'))  # Updated separator\n",
        "    data = pd.concat(data)\n",
        "    targets = set(data['labels'])\n",
        "    return data, list(targets)\n"
      ],
      "metadata": {
        "id": "dKRRbmBdw69Z"
      },
      "execution_count": null,
      "outputs": []
    },
    {
      "cell_type": "markdown",
      "source": [
        "Do pre-processing to the dataset"
      ],
      "metadata": {
        "id": "zEmJ9TcOmuiL"
      }
    },
    {
      "cell_type": "code",
      "source": [
        "import re\n",
        "import nltk\n",
        "nltk.download('stopwords')\n",
        "\n",
        "import re\n",
        "import nltk\n",
        "from nltk.corpus import stopwords\n",
        "\n",
        "nltk.download('stopwords')\n",
        "\n",
        "spanish_stopwords = set(stopwords.words('spanish'))\n",
        "\n",
        "def cleanup(tweet):\n",
        "    \"\"\"\n",
        "    Remove URLs, hashtags, mentions, emojis, and replaces newlines and tabulations with spaces.\n",
        "    Converts the text to lowercase and removes Spanish stopwords.\n",
        "\n",
        "    :param tweet: Text string representing a tweet.\n",
        "    :return: Cleaned tweet as a text string.\n",
        "    \"\"\"\n",
        "    # Remove URLs\n",
        "    tweet = re.sub(r\"http\\S+\", \"\", tweet)\n",
        "\n",
        "    # Remove hashtags and mentions\n",
        "    tweet = tweet.replace(\"#\", \"\").replace(\"@\", \"\")\n",
        "\n",
        "    # Remove non-ASCII characters (like emojis)\n",
        "    tweet = re.sub(r'[^\\x00-\\x7F]+', '', tweet)\n",
        "\n",
        "    # Replace newlines and tabulations with spaces\n",
        "    tweet = tweet.replace('\\n', ' ').replace('\\t', ' ')\n",
        "\n",
        "    # Convert to lowercase\n",
        "    tweet = tweet.lower()\n",
        "\n",
        "    # Remove Spanish stopwords\n",
        "    tweet_words = tweet.split()  # Split the tweet into words\n",
        "    tweet_words = [word for word in tweet_words if word not in spanish_stopwords]  # Remove stopwords\n",
        "\n",
        "    # Rejoin words back into a cleaned tweet\n",
        "    tweet = ' '.join(tweet_words)\n",
        "\n",
        "    return tweet\n",
        "\n",
        "# Apply the cleanup function to your DataFrame\n",
        "df['text'] = df['text'].apply(cleanup)\n",
        "\n",
        "print(df.head(20))"
      ],
      "metadata": {
        "colab": {
          "base_uri": "https://localhost:8080/"
        },
        "id": "IjzRdyq9xAtm",
        "outputId": "f5b53a01-3ef5-4253-ee82-7a4beb924b98"
      },
      "execution_count": null,
      "outputs": [
        {
          "output_type": "stream",
          "name": "stderr",
          "text": [
            "[nltk_data] Downloading package stopwords to /root/nltk_data...\n",
            "[nltk_data]   Package stopwords is already up-to-date!\n",
            "[nltk_data] Downloading package stopwords to /root/nltk_data...\n",
            "[nltk_data]   Package stopwords is already up-to-date!\n"
          ]
        },
        {
          "output_type": "stream",
          "name": "stdout",
          "text": [
            "                                                 text  labels\n",
            "0   tan tan feministas invisibilizaban constanteme...     0.0\n",
            "1   user user user carga q convirti 2da vuelta gob...     0.0\n",
            "2   , sabrn femiorcas user flaiterio mapuchento , ...     1.0\n",
            "3   user user user user vecina tenia ver flaiterio...     0.0\n",
            "4                       user debajo piedra flaiterio?     0.0\n",
            "5   user vengo diciendo voto obligado piera. dejem...     0.0\n",
            "6   militar diga:\"amigo mejor bicicleta pase votar...     0.0\n",
            "7                     user lados flaites pelo pintado     0.0\n",
            "8   user haber, pensando cantidad flaites ignorant...     0.0\n",
            "9   user user user user entiendo. haces referencia...     0.0\n",
            "10  user user jueron loh pacohhh..tpica frase loa ...     0.0\n",
            "11     user user flaites !!! 34 macabros mapocho link     0.0\n",
            "12  user flaites pueden quedarse casa sacandose mo...     0.0\n",
            "13                                  user alla flaites     0.0\n",
            "14  user ser musho? trata rotos creo yo. trata fla...     0.0\n",
            "15  descriteriados plaza uoa igual descriteriados ...     0.0\n",
            "16           user csm ,y flaites entendern nada, jaja     0.0\n",
            "17  user user espero institucin venga mas dura fla...     0.0\n",
            "18  user est iluminando, resultado populismo barat...     0.0\n",
            "19  dos cagadas cabeza, ordinarias, picantes, flai...     0.0\n"
          ]
        }
      ]
    },
    {
      "cell_type": "markdown",
      "source": [
        "After cleaning, remove those columns with NaN information"
      ],
      "metadata": {
        "id": "xTXbhw5Og7A6"
      }
    },
    {
      "cell_type": "code",
      "source": [
        "df = df.dropna()"
      ],
      "metadata": {
        "id": "Oi5OhD-G5FDN"
      },
      "execution_count": null,
      "outputs": []
    },
    {
      "cell_type": "markdown",
      "source": [
        "Save the cleaned dataset in another CSV file"
      ],
      "metadata": {
        "id": "K5zIF66YhAgK"
      }
    },
    {
      "cell_type": "code",
      "source": [
        "# Save the cleaned DataFrame to a CSV file\n",
        "df.to_csv('/content/drive/MyDrive/Colab Notebooks/FinalProjectApps/dataset/hatespeech_cleaned.csv', index=False)"
      ],
      "metadata": {
        "id": "fxMBGaq65HSY"
      },
      "execution_count": null,
      "outputs": []
    },
    {
      "cell_type": "markdown",
      "source": [
        "#Split the dataset into Train - Dev - Test"
      ],
      "metadata": {
        "id": "FXN6RANShDk6"
      }
    },
    {
      "cell_type": "markdown",
      "source": [
        "Check the dimensions of each part"
      ],
      "metadata": {
        "id": "BvPoSkZ7hJNi"
      }
    },
    {
      "cell_type": "code",
      "source": [
        "import pandas as pd\n",
        "from sklearn.model_selection import train_test_split\n",
        "\n",
        "df = pd.read_csv('/content/drive/MyDrive/Colab Notebooks/FinalProjectApps/dataset/hatespeech_cleaned.csv')  # Replace with your actual CSV file path\n",
        "\n",
        "#Split into 70% train, 20% dev, 10% test\n",
        "train, temp = train_test_split(df, test_size=0.3, random_state=42)  # 70% for train, 30% for temp\n",
        "dev, test = train_test_split(temp, test_size=1/3, random_state=42)  # 33% of temp -> 10% for test, 20% for dev\n",
        "\n",
        "#separate variables for train, dev, and test\n",
        "train_set = train\n",
        "dev_set = dev\n",
        "test_set = test\n",
        "\n",
        "#splits\n",
        "print(f'Train shape: {train_set.shape}')\n",
        "print(f'Dev shape: {dev_set.shape}')\n",
        "print(f'Test shape: {test_set.shape}')"
      ],
      "metadata": {
        "colab": {
          "base_uri": "https://localhost:8080/"
        },
        "id": "0cWToXXO7TKj",
        "outputId": "dc404b8b-624e-46a7-cec4-d55a1f5ea2f0"
      },
      "execution_count": null,
      "outputs": [
        {
          "output_type": "stream",
          "name": "stdout",
          "text": [
            "Train shape: (20898, 2)\n",
            "Dev shape: (5971, 2)\n",
            "Test shape: (2986, 2)\n"
          ]
        }
      ]
    },
    {
      "cell_type": "markdown",
      "source": [
        "See examples of each part"
      ],
      "metadata": {
        "id": "wqFDU5GFhMoZ"
      }
    },
    {
      "cell_type": "code",
      "source": [
        "train= list(train_set[['text', 'labels']].sample(frac=1).itertuples(index=False, name=None))\n",
        "print(f\"Training Example: {train[364]}\")\n",
        "print(f\"Total Train: {len(train)}\")"
      ],
      "metadata": {
        "colab": {
          "base_uri": "https://localhost:8080/"
        },
        "id": "ENoLgbQ58BPn",
        "outputId": "e5562dba-0c6a-468d-945e-56a2d4908846"
      },
      "execution_count": null,
      "outputs": [
        {
          "output_type": "stream",
          "name": "stdout",
          "text": [
            "Training Example: ('user ecuavisa entrevistado feminazis llamarlas feminazis ??????', 1.0)\n",
            "Total Train: 20898\n"
          ]
        }
      ]
    },
    {
      "cell_type": "code",
      "source": [
        "dev= list(dev_set[['text', 'labels']].sample(frac=1).itertuples(index=False, name=None))\n",
        "print(f\"Training Example: {dev[5]}\")\n",
        "print(f\"Total Dev: {len(dev)}\")"
      ],
      "metadata": {
        "colab": {
          "base_uri": "https://localhost:8080/"
        },
        "id": "2WDlGeFv8Hv2",
        "outputId": "73bc4a68-ca34-4975-8922-54cbaec6df11"
      },
      "execution_count": null,
      "outputs": [
        {
          "output_type": "stream",
          "name": "stdout",
          "text": [
            "Training Example: ('user wowwwww preciosa rica mujer mmmmmm', 0.0)\n",
            "Total Dev: 5971\n"
          ]
        }
      ]
    },
    {
      "cell_type": "code",
      "source": [
        "test= list(test_set[['text', 'labels']].sample(frac=1).itertuples(index=False, name=None))\n",
        "print(f\"Training Example: {test[5]}\")\n",
        "print(f\"Total Test: {len(test)}\")"
      ],
      "metadata": {
        "colab": {
          "base_uri": "https://localhost:8080/"
        },
        "id": "0WQZ4bOw8Mfd",
        "outputId": "9e4d6aad-84e1-459a-851d-04a7ef3c8246"
      },
      "execution_count": null,
      "outputs": [
        {
          "output_type": "stream",
          "name": "stdout",
          "text": [
            "Training Example: ('alguien puede avisar consigo teclado arabe-', 0.0)\n",
            "Total Test: 2986\n"
          ]
        }
      ]
    },
    {
      "cell_type": "markdown",
      "source": [
        "# Transform dataset as spaCy format further processing"
      ],
      "metadata": {
        "id": "Wv7IoFmhhUYy"
      }
    },
    {
      "cell_type": "code",
      "source": [
        "!pip install --upgrade pip"
      ],
      "metadata": {
        "colab": {
          "base_uri": "https://localhost:8080/"
        },
        "id": "RgpdqDtv5o0E",
        "outputId": "d6233d98-a15f-44c5-af2b-86c74b37566c"
      },
      "execution_count": null,
      "outputs": [
        {
          "output_type": "stream",
          "name": "stdout",
          "text": [
            "Requirement already satisfied: pip in /usr/local/lib/python3.11/dist-packages (25.0.1)\n"
          ]
        }
      ]
    },
    {
      "cell_type": "code",
      "source": [
        "!python -m spacy download es_dep_news_trf  # Transformer-based model for Spanish\n",
        "!python -m spacy download es_core_news_sm   # Small model\n",
        "!python -m spacy download es_core_news_md   # Medium model\n",
        "!python -m spacy download es_core_news_lg   # Large model\n"
      ],
      "metadata": {
        "colab": {
          "base_uri": "https://localhost:8080/"
        },
        "id": "yCKQI5mt4WRW",
        "outputId": "768062d6-2807-4736-d727-afc67f72da14"
      },
      "execution_count": null,
      "outputs": [
        {
          "output_type": "stream",
          "name": "stdout",
          "text": [
            "Collecting es-dep-news-trf==3.8.0\n",
            "  Downloading https://github.com/explosion/spacy-models/releases/download/es_dep_news_trf-3.8.0/es_dep_news_trf-3.8.0-py3-none-any.whl (407.8 MB)\n",
            "\u001b[2K     \u001b[90m━━━━━━━━━━━━━━━━━━━━━━━━━━━━━━━━━━━━━━━━\u001b[0m \u001b[32m407.8/407.8 MB\u001b[0m \u001b[31m29.4 MB/s\u001b[0m eta \u001b[36m0:00:00\u001b[0m\n",
            "\u001b[?25hCollecting spacy-curated-transformers<1.0.0,>=0.2.2 (from es-dep-news-trf==3.8.0)\n",
            "  Downloading spacy_curated_transformers-0.3.0-py2.py3-none-any.whl.metadata (2.7 kB)\n",
            "Collecting curated-transformers<0.2.0,>=0.1.0 (from spacy-curated-transformers<1.0.0,>=0.2.2->es-dep-news-trf==3.8.0)\n",
            "  Downloading curated_transformers-0.1.1-py2.py3-none-any.whl.metadata (965 bytes)\n",
            "Collecting curated-tokenizers<0.1.0,>=0.0.9 (from spacy-curated-transformers<1.0.0,>=0.2.2->es-dep-news-trf==3.8.0)\n",
            "  Downloading curated_tokenizers-0.0.9-cp311-cp311-manylinux_2_17_x86_64.manylinux2014_x86_64.whl.metadata (1.9 kB)\n",
            "Requirement already satisfied: torch>=1.12.0 in /usr/local/lib/python3.11/dist-packages (from spacy-curated-transformers<1.0.0,>=0.2.2->es-dep-news-trf==3.8.0) (2.6.0+cu124)\n",
            "Requirement already satisfied: regex>=2022 in /usr/local/lib/python3.11/dist-packages (from curated-tokenizers<0.1.0,>=0.0.9->spacy-curated-transformers<1.0.0,>=0.2.2->es-dep-news-trf==3.8.0) (2024.11.6)\n",
            "Requirement already satisfied: filelock in /usr/local/lib/python3.11/dist-packages (from torch>=1.12.0->spacy-curated-transformers<1.0.0,>=0.2.2->es-dep-news-trf==3.8.0) (3.18.0)\n",
            "Requirement already satisfied: typing-extensions>=4.10.0 in /usr/local/lib/python3.11/dist-packages (from torch>=1.12.0->spacy-curated-transformers<1.0.0,>=0.2.2->es-dep-news-trf==3.8.0) (4.13.0)\n",
            "Requirement already satisfied: networkx in /usr/local/lib/python3.11/dist-packages (from torch>=1.12.0->spacy-curated-transformers<1.0.0,>=0.2.2->es-dep-news-trf==3.8.0) (3.4.2)\n",
            "Requirement already satisfied: jinja2 in /usr/local/lib/python3.11/dist-packages (from torch>=1.12.0->spacy-curated-transformers<1.0.0,>=0.2.2->es-dep-news-trf==3.8.0) (3.1.6)\n",
            "Requirement already satisfied: fsspec in /usr/local/lib/python3.11/dist-packages (from torch>=1.12.0->spacy-curated-transformers<1.0.0,>=0.2.2->es-dep-news-trf==3.8.0) (2025.3.0)\n",
            "Collecting nvidia-cuda-nvrtc-cu12==12.4.127 (from torch>=1.12.0->spacy-curated-transformers<1.0.0,>=0.2.2->es-dep-news-trf==3.8.0)\n",
            "  Downloading nvidia_cuda_nvrtc_cu12-12.4.127-py3-none-manylinux2014_x86_64.whl.metadata (1.5 kB)\n",
            "Collecting nvidia-cuda-runtime-cu12==12.4.127 (from torch>=1.12.0->spacy-curated-transformers<1.0.0,>=0.2.2->es-dep-news-trf==3.8.0)\n",
            "  Downloading nvidia_cuda_runtime_cu12-12.4.127-py3-none-manylinux2014_x86_64.whl.metadata (1.5 kB)\n",
            "Collecting nvidia-cuda-cupti-cu12==12.4.127 (from torch>=1.12.0->spacy-curated-transformers<1.0.0,>=0.2.2->es-dep-news-trf==3.8.0)\n",
            "  Downloading nvidia_cuda_cupti_cu12-12.4.127-py3-none-manylinux2014_x86_64.whl.metadata (1.6 kB)\n",
            "Collecting nvidia-cudnn-cu12==9.1.0.70 (from torch>=1.12.0->spacy-curated-transformers<1.0.0,>=0.2.2->es-dep-news-trf==3.8.0)\n",
            "  Downloading nvidia_cudnn_cu12-9.1.0.70-py3-none-manylinux2014_x86_64.whl.metadata (1.6 kB)\n",
            "Collecting nvidia-cublas-cu12==12.4.5.8 (from torch>=1.12.0->spacy-curated-transformers<1.0.0,>=0.2.2->es-dep-news-trf==3.8.0)\n",
            "  Downloading nvidia_cublas_cu12-12.4.5.8-py3-none-manylinux2014_x86_64.whl.metadata (1.5 kB)\n",
            "Collecting nvidia-cufft-cu12==11.2.1.3 (from torch>=1.12.0->spacy-curated-transformers<1.0.0,>=0.2.2->es-dep-news-trf==3.8.0)\n",
            "  Downloading nvidia_cufft_cu12-11.2.1.3-py3-none-manylinux2014_x86_64.whl.metadata (1.5 kB)\n",
            "Collecting nvidia-curand-cu12==10.3.5.147 (from torch>=1.12.0->spacy-curated-transformers<1.0.0,>=0.2.2->es-dep-news-trf==3.8.0)\n",
            "  Downloading nvidia_curand_cu12-10.3.5.147-py3-none-manylinux2014_x86_64.whl.metadata (1.5 kB)\n",
            "Collecting nvidia-cusolver-cu12==11.6.1.9 (from torch>=1.12.0->spacy-curated-transformers<1.0.0,>=0.2.2->es-dep-news-trf==3.8.0)\n",
            "  Downloading nvidia_cusolver_cu12-11.6.1.9-py3-none-manylinux2014_x86_64.whl.metadata (1.6 kB)\n",
            "Collecting nvidia-cusparse-cu12==12.3.1.170 (from torch>=1.12.0->spacy-curated-transformers<1.0.0,>=0.2.2->es-dep-news-trf==3.8.0)\n",
            "  Downloading nvidia_cusparse_cu12-12.3.1.170-py3-none-manylinux2014_x86_64.whl.metadata (1.6 kB)\n",
            "Requirement already satisfied: nvidia-cusparselt-cu12==0.6.2 in /usr/local/lib/python3.11/dist-packages (from torch>=1.12.0->spacy-curated-transformers<1.0.0,>=0.2.2->es-dep-news-trf==3.8.0) (0.6.2)\n",
            "Requirement already satisfied: nvidia-nccl-cu12==2.21.5 in /usr/local/lib/python3.11/dist-packages (from torch>=1.12.0->spacy-curated-transformers<1.0.0,>=0.2.2->es-dep-news-trf==3.8.0) (2.21.5)\n",
            "Requirement already satisfied: nvidia-nvtx-cu12==12.4.127 in /usr/local/lib/python3.11/dist-packages (from torch>=1.12.0->spacy-curated-transformers<1.0.0,>=0.2.2->es-dep-news-trf==3.8.0) (12.4.127)\n",
            "Collecting nvidia-nvjitlink-cu12==12.4.127 (from torch>=1.12.0->spacy-curated-transformers<1.0.0,>=0.2.2->es-dep-news-trf==3.8.0)\n",
            "  Downloading nvidia_nvjitlink_cu12-12.4.127-py3-none-manylinux2014_x86_64.whl.metadata (1.5 kB)\n",
            "Requirement already satisfied: triton==3.2.0 in /usr/local/lib/python3.11/dist-packages (from torch>=1.12.0->spacy-curated-transformers<1.0.0,>=0.2.2->es-dep-news-trf==3.8.0) (3.2.0)\n",
            "Requirement already satisfied: sympy==1.13.1 in /usr/local/lib/python3.11/dist-packages (from torch>=1.12.0->spacy-curated-transformers<1.0.0,>=0.2.2->es-dep-news-trf==3.8.0) (1.13.1)\n",
            "Requirement already satisfied: mpmath<1.4,>=1.1.0 in /usr/local/lib/python3.11/dist-packages (from sympy==1.13.1->torch>=1.12.0->spacy-curated-transformers<1.0.0,>=0.2.2->es-dep-news-trf==3.8.0) (1.3.0)\n",
            "Requirement already satisfied: MarkupSafe>=2.0 in /usr/local/lib/python3.11/dist-packages (from jinja2->torch>=1.12.0->spacy-curated-transformers<1.0.0,>=0.2.2->es-dep-news-trf==3.8.0) (3.0.2)\n",
            "Downloading spacy_curated_transformers-0.3.0-py2.py3-none-any.whl (236 kB)\n",
            "Downloading curated_tokenizers-0.0.9-cp311-cp311-manylinux_2_17_x86_64.manylinux2014_x86_64.whl (735 kB)\n",
            "\u001b[2K   \u001b[90m━━━━━━━━━━━━━━━━━━━━━━━━━━━━━━━━━━━━━━━━\u001b[0m \u001b[32m735.6/735.6 kB\u001b[0m \u001b[31m15.8 MB/s\u001b[0m eta \u001b[36m0:00:00\u001b[0m\n",
            "\u001b[?25hDownloading curated_transformers-0.1.1-py2.py3-none-any.whl (25 kB)\n",
            "Downloading nvidia_cublas_cu12-12.4.5.8-py3-none-manylinux2014_x86_64.whl (363.4 MB)\n",
            "\u001b[2K   \u001b[90m━━━━━━━━━━━━━━━━━━━━━━━━━━━━━━━━━━━━━━━━\u001b[0m \u001b[32m363.4/363.4 MB\u001b[0m \u001b[31m58.5 MB/s\u001b[0m eta \u001b[36m0:00:00\u001b[0m\n",
            "\u001b[?25hDownloading nvidia_cuda_cupti_cu12-12.4.127-py3-none-manylinux2014_x86_64.whl (13.8 MB)\n",
            "\u001b[2K   \u001b[90m━━━━━━━━━━━━━━━━━━━━━━━━━━━━━━━━━━━━━━━━\u001b[0m \u001b[32m13.8/13.8 MB\u001b[0m \u001b[31m142.7 MB/s\u001b[0m eta \u001b[36m0:00:00\u001b[0m\n",
            "\u001b[?25hDownloading nvidia_cuda_nvrtc_cu12-12.4.127-py3-none-manylinux2014_x86_64.whl (24.6 MB)\n",
            "\u001b[2K   \u001b[90m━━━━━━━━━━━━━━━━━━━━━━━━━━━━━━━━━━━━━━━━\u001b[0m \u001b[32m24.6/24.6 MB\u001b[0m \u001b[31m145.2 MB/s\u001b[0m eta \u001b[36m0:00:00\u001b[0m\n",
            "\u001b[?25hDownloading nvidia_cuda_runtime_cu12-12.4.127-py3-none-manylinux2014_x86_64.whl (883 kB)\n",
            "\u001b[2K   \u001b[90m━━━━━━━━━━━━━━━━━━━━━━━━━━━━━━━━━━━━━━━━\u001b[0m \u001b[32m883.7/883.7 kB\u001b[0m \u001b[31m34.8 MB/s\u001b[0m eta \u001b[36m0:00:00\u001b[0m\n",
            "\u001b[?25hDownloading nvidia_cudnn_cu12-9.1.0.70-py3-none-manylinux2014_x86_64.whl (664.8 MB)\n",
            "\u001b[2K   \u001b[90m━━━━━━━━━━━━━━━━━━━━━━━━━━━━━━━━━━━━━━━━\u001b[0m \u001b[32m664.8/664.8 MB\u001b[0m \u001b[31m30.2 MB/s\u001b[0m eta \u001b[36m0:00:00\u001b[0m\n",
            "\u001b[?25hDownloading nvidia_cufft_cu12-11.2.1.3-py3-none-manylinux2014_x86_64.whl (211.5 MB)\n",
            "\u001b[2K   \u001b[90m━━━━━━━━━━━━━━━━━━━━━━━━━━━━━━━━━━━━━━━━\u001b[0m \u001b[32m211.5/211.5 MB\u001b[0m \u001b[31m71.2 MB/s\u001b[0m eta \u001b[36m0:00:00\u001b[0m\n",
            "\u001b[?25hDownloading nvidia_curand_cu12-10.3.5.147-py3-none-manylinux2014_x86_64.whl (56.3 MB)\n",
            "\u001b[2K   \u001b[90m━━━━━━━━━━━━━━━━━━━━━━━━━━━━━━━━━━━━━━━━\u001b[0m \u001b[32m56.3/56.3 MB\u001b[0m \u001b[31m56.8 MB/s\u001b[0m eta \u001b[36m0:00:00\u001b[0m\n",
            "\u001b[?25hDownloading nvidia_cusolver_cu12-11.6.1.9-py3-none-manylinux2014_x86_64.whl (127.9 MB)\n",
            "\u001b[2K   \u001b[90m━━━━━━━━━━━━━━━━━━━━━━━━━━━━━━━━━━━━━━━━\u001b[0m \u001b[32m127.9/127.9 MB\u001b[0m \u001b[31m64.2 MB/s\u001b[0m eta \u001b[36m0:00:00\u001b[0m\n",
            "\u001b[?25hDownloading nvidia_cusparse_cu12-12.3.1.170-py3-none-manylinux2014_x86_64.whl (207.5 MB)\n",
            "\u001b[2K   \u001b[90m━━━━━━━━━━━━━━━━━━━━━━━━━━━━━━━━━━━━━━━━\u001b[0m \u001b[32m207.5/207.5 MB\u001b[0m \u001b[31m69.0 MB/s\u001b[0m eta \u001b[36m0:00:00\u001b[0m\n",
            "\u001b[?25hDownloading nvidia_nvjitlink_cu12-12.4.127-py3-none-manylinux2014_x86_64.whl (21.1 MB)\n",
            "\u001b[2K   \u001b[90m━━━━━━━━━━━━━━━━━━━━━━━━━━━━━━━━━━━━━━━━\u001b[0m \u001b[32m21.1/21.1 MB\u001b[0m \u001b[31m96.9 MB/s\u001b[0m eta \u001b[36m0:00:00\u001b[0m\n",
            "\u001b[?25hInstalling collected packages: nvidia-nvjitlink-cu12, nvidia-curand-cu12, nvidia-cufft-cu12, nvidia-cuda-runtime-cu12, nvidia-cuda-nvrtc-cu12, nvidia-cuda-cupti-cu12, nvidia-cublas-cu12, curated-tokenizers, nvidia-cusparse-cu12, nvidia-cudnn-cu12, nvidia-cusolver-cu12, curated-transformers, spacy-curated-transformers, es-dep-news-trf\n",
            "  Attempting uninstall: nvidia-nvjitlink-cu12\n",
            "    Found existing installation: nvidia-nvjitlink-cu12 12.5.82\n",
            "    Uninstalling nvidia-nvjitlink-cu12-12.5.82:\n",
            "      Successfully uninstalled nvidia-nvjitlink-cu12-12.5.82\n",
            "  Attempting uninstall: nvidia-curand-cu12\n",
            "    Found existing installation: nvidia-curand-cu12 10.3.6.82\n",
            "    Uninstalling nvidia-curand-cu12-10.3.6.82:\n",
            "      Successfully uninstalled nvidia-curand-cu12-10.3.6.82\n",
            "  Attempting uninstall: nvidia-cufft-cu12\n",
            "    Found existing installation: nvidia-cufft-cu12 11.2.3.61\n",
            "    Uninstalling nvidia-cufft-cu12-11.2.3.61:\n",
            "      Successfully uninstalled nvidia-cufft-cu12-11.2.3.61\n",
            "  Attempting uninstall: nvidia-cuda-runtime-cu12\n",
            "    Found existing installation: nvidia-cuda-runtime-cu12 12.5.82\n",
            "    Uninstalling nvidia-cuda-runtime-cu12-12.5.82:\n",
            "      Successfully uninstalled nvidia-cuda-runtime-cu12-12.5.82\n",
            "  Attempting uninstall: nvidia-cuda-nvrtc-cu12\n",
            "    Found existing installation: nvidia-cuda-nvrtc-cu12 12.5.82\n",
            "    Uninstalling nvidia-cuda-nvrtc-cu12-12.5.82:\n",
            "      Successfully uninstalled nvidia-cuda-nvrtc-cu12-12.5.82\n",
            "  Attempting uninstall: nvidia-cuda-cupti-cu12\n",
            "    Found existing installation: nvidia-cuda-cupti-cu12 12.5.82\n",
            "    Uninstalling nvidia-cuda-cupti-cu12-12.5.82:\n",
            "      Successfully uninstalled nvidia-cuda-cupti-cu12-12.5.82\n",
            "  Attempting uninstall: nvidia-cublas-cu12\n",
            "    Found existing installation: nvidia-cublas-cu12 12.5.3.2\n",
            "    Uninstalling nvidia-cublas-cu12-12.5.3.2:\n",
            "      Successfully uninstalled nvidia-cublas-cu12-12.5.3.2\n",
            "  Attempting uninstall: nvidia-cusparse-cu12\n",
            "    Found existing installation: nvidia-cusparse-cu12 12.5.1.3\n",
            "    Uninstalling nvidia-cusparse-cu12-12.5.1.3:\n",
            "      Successfully uninstalled nvidia-cusparse-cu12-12.5.1.3\n",
            "  Attempting uninstall: nvidia-cudnn-cu12\n",
            "    Found existing installation: nvidia-cudnn-cu12 9.3.0.75\n",
            "    Uninstalling nvidia-cudnn-cu12-9.3.0.75:\n",
            "      Successfully uninstalled nvidia-cudnn-cu12-9.3.0.75\n",
            "  Attempting uninstall: nvidia-cusolver-cu12\n",
            "    Found existing installation: nvidia-cusolver-cu12 11.6.3.83\n",
            "    Uninstalling nvidia-cusolver-cu12-11.6.3.83:\n",
            "      Successfully uninstalled nvidia-cusolver-cu12-11.6.3.83\n",
            "Successfully installed curated-tokenizers-0.0.9 curated-transformers-0.1.1 es-dep-news-trf-3.8.0 nvidia-cublas-cu12-12.4.5.8 nvidia-cuda-cupti-cu12-12.4.127 nvidia-cuda-nvrtc-cu12-12.4.127 nvidia-cuda-runtime-cu12-12.4.127 nvidia-cudnn-cu12-9.1.0.70 nvidia-cufft-cu12-11.2.1.3 nvidia-curand-cu12-10.3.5.147 nvidia-cusolver-cu12-11.6.1.9 nvidia-cusparse-cu12-12.3.1.170 nvidia-nvjitlink-cu12-12.4.127 spacy-curated-transformers-0.3.0\n",
            "\u001b[38;5;2m✔ Download and installation successful\u001b[0m\n",
            "You can now load the package via spacy.load('es_dep_news_trf')\n",
            "\u001b[38;5;3m⚠ Restart to reload dependencies\u001b[0m\n",
            "If you are in a Jupyter or Colab notebook, you may need to restart Python in\n",
            "order to load all the package's dependencies. You can do this by selecting the\n",
            "'Restart kernel' or 'Restart runtime' option.\n",
            "Collecting es-core-news-sm==3.8.0\n",
            "  Downloading https://github.com/explosion/spacy-models/releases/download/es_core_news_sm-3.8.0/es_core_news_sm-3.8.0-py3-none-any.whl (12.9 MB)\n",
            "\u001b[2K     \u001b[90m━━━━━━━━━━━━━━━━━━━━━━━━━━━━━━━━━━━━━━━━\u001b[0m \u001b[32m12.9/12.9 MB\u001b[0m \u001b[31m23.6 MB/s\u001b[0m eta \u001b[36m0:00:00\u001b[0m\n",
            "\u001b[?25hInstalling collected packages: es-core-news-sm\n",
            "Successfully installed es-core-news-sm-3.8.0\n",
            "\u001b[38;5;2m✔ Download and installation successful\u001b[0m\n",
            "You can now load the package via spacy.load('es_core_news_sm')\n",
            "\u001b[38;5;3m⚠ Restart to reload dependencies\u001b[0m\n",
            "If you are in a Jupyter or Colab notebook, you may need to restart Python in\n",
            "order to load all the package's dependencies. You can do this by selecting the\n",
            "'Restart kernel' or 'Restart runtime' option.\n",
            "Collecting es-core-news-md==3.8.0\n",
            "  Downloading https://github.com/explosion/spacy-models/releases/download/es_core_news_md-3.8.0/es_core_news_md-3.8.0-py3-none-any.whl (42.3 MB)\n",
            "\u001b[2K     \u001b[90m━━━━━━━━━━━━━━━━━━━━━━━━━━━━━━━━━━━━━━━━\u001b[0m \u001b[32m42.3/42.3 MB\u001b[0m \u001b[31m30.8 MB/s\u001b[0m eta \u001b[36m0:00:00\u001b[0m\n",
            "\u001b[?25hInstalling collected packages: es-core-news-md\n",
            "Successfully installed es-core-news-md-3.8.0\n",
            "\u001b[38;5;2m✔ Download and installation successful\u001b[0m\n",
            "You can now load the package via spacy.load('es_core_news_md')\n",
            "\u001b[38;5;3m⚠ Restart to reload dependencies\u001b[0m\n",
            "If you are in a Jupyter or Colab notebook, you may need to restart Python in\n",
            "order to load all the package's dependencies. You can do this by selecting the\n",
            "'Restart kernel' or 'Restart runtime' option.\n",
            "Collecting es-core-news-lg==3.8.0\n",
            "  Downloading https://github.com/explosion/spacy-models/releases/download/es_core_news_lg-3.8.0/es_core_news_lg-3.8.0-py3-none-any.whl (568.0 MB)\n",
            "\u001b[2K     \u001b[90m━━━━━━━━━━━━━━━━━━━━━━━━━━━━━━━━━━━━━━━━\u001b[0m \u001b[32m568.0/568.0 MB\u001b[0m \u001b[31m28.0 MB/s\u001b[0m eta \u001b[36m0:00:00\u001b[0m\n",
            "\u001b[?25hInstalling collected packages: es-core-news-lg\n",
            "Successfully installed es-core-news-lg-3.8.0\n",
            "\u001b[38;5;2m✔ Download and installation successful\u001b[0m\n",
            "You can now load the package via spacy.load('es_core_news_lg')\n",
            "\u001b[38;5;3m⚠ Restart to reload dependencies\u001b[0m\n",
            "If you are in a Jupyter or Colab notebook, you may need to restart Python in\n",
            "order to load all the package's dependencies. You can do this by selecting the\n",
            "'Restart kernel' or 'Restart runtime' option.\n"
          ]
        }
      ]
    },
    {
      "cell_type": "code",
      "source": [
        "import spacy\n",
        "print(spacy.__version__)\n"
      ],
      "metadata": {
        "colab": {
          "base_uri": "https://localhost:8080/"
        },
        "id": "YrmviZiqpqEY",
        "outputId": "c52837d0-26b2-4266-9ee1-2c1f19f26c2c"
      },
      "execution_count": null,
      "outputs": [
        {
          "output_type": "stream",
          "name": "stdout",
          "text": [
            "3.8.4\n"
          ]
        }
      ]
    },
    {
      "cell_type": "markdown",
      "source": [
        "Convert train - dev - test to .spacy format for training the models"
      ],
      "metadata": {
        "id": "3p_QttSbnEdW"
      }
    },
    {
      "cell_type": "code",
      "source": [
        "from spacy.tokens import DocBin\n",
        "\n",
        "def convert_df_to_spacy(dataset):\n",
        "    spacy_docs = []\n",
        "    for text, label in zip(dataset['text'], dataset['labels']):\n",
        "        doc = nlp.make_doc(text)  #\n",
        "        doc.cats = {'hate_speech': label == 1.0, 'non_hate_speech': label == 0.0}  # Label as binary classes\n",
        "        spacy_docs.append(doc)\n",
        "    return spacy_docs\n",
        "\n",
        "#load blank spaCy model\n",
        "nlp = spacy.blank(\"es\")\n",
        "\n",
        "#convert and save train, dev, and test sets\n",
        "#save files to Google Drive\n",
        "for split, dataset, filename in zip(\n",
        "    [\"train\", \"dev\", \"test\"],\n",
        "    [train_set, dev_set, test_set],\n",
        "    [\"/content/drive/MyDrive/Colab Notebooks/FinalProjectApps/spacyfiles/train.spacy\",\n",
        "     \"/content/drive/MyDrive/Colab Notebooks/FinalProjectApps/spacyfiles/dev.spacy\",\n",
        "     \"/content/drive/MyDrive/Colab Notebooks/FinalProjectApps/spacyfiles/test.spacy\"]\n",
        "):\n",
        "    docs = convert_df_to_spacy(dataset)\n",
        "    doc_bin = DocBin(docs=docs)\n",
        "    doc_bin.to_disk(filename)\n"
      ],
      "metadata": {
        "id": "K4aG7fR4pao4"
      },
      "execution_count": null,
      "outputs": []
    },
    {
      "cell_type": "markdown",
      "source": [
        "#**TRAINING**"
      ],
      "metadata": {
        "id": "xSYm8m35nSTb"
      }
    },
    {
      "cell_type": "markdown",
      "source": [
        "#Efficiency model"
      ],
      "metadata": {
        "id": "hLCON2cY_LZT"
      }
    },
    {
      "cell_type": "code",
      "source": [
        "!python -m spacy init config --lang en --pipeline textcat --optimize efficiency --force config.cfg"
      ],
      "metadata": {
        "colab": {
          "base_uri": "https://localhost:8080/"
        },
        "id": "l4H_5h1o78mr",
        "outputId": "d558218b-b109-4523-aff9-38303e34b8bf"
      },
      "execution_count": null,
      "outputs": [
        {
          "output_type": "stream",
          "name": "stdout",
          "text": [
            "\u001b[38;5;3m⚠ To generate a more effective transformer-based config (GPU-only),\n",
            "install the spacy-transformers package and re-run this command. The config\n",
            "generated now does not use transformers.\u001b[0m\n",
            "\u001b[38;5;4mℹ Generated config template specific for your use case\u001b[0m\n",
            "- Language: en\n",
            "- Pipeline: textcat\n",
            "- Optimize for: efficiency\n",
            "- Hardware: CPU\n",
            "- Transformer: None\n",
            "\u001b[38;5;2m✔ Auto-filled config with all values\u001b[0m\n",
            "\u001b[38;5;2m✔ Saved config\u001b[0m\n",
            "config.cfg\n",
            "You can now add your data and train your pipeline:\n",
            "python -m spacy train config.cfg --paths.train ./train.spacy --paths.dev ./dev.spacy\n"
          ]
        }
      ]
    },
    {
      "cell_type": "code",
      "source": [
        "!python -m spacy train config.cfg --paths.train \"/content/drive/MyDrive/Colab Notebooks/FinalProjectApps/spacyfiles/train.spacy\"  --paths.dev \"/content/drive/MyDrive/Colab Notebooks/FinalProjectApps/spacyfiles/dev.spacy\" --output model --verbose"
      ],
      "metadata": {
        "colab": {
          "base_uri": "https://localhost:8080/"
        },
        "id": "51aOuz5_jaE7",
        "outputId": "3ee88392-6dfd-46c2-d1c2-55ec08855760"
      },
      "execution_count": null,
      "outputs": [
        {
          "output_type": "stream",
          "name": "stdout",
          "text": [
            "[2025-04-02 18:28:47,641] [DEBUG] Config overrides from CLI: ['paths.train', 'paths.dev']\n",
            "\u001b[38;5;4mℹ Saving to output directory: model\u001b[0m\n",
            "\u001b[38;5;4mℹ Using CPU\u001b[0m\n",
            "\u001b[1m\n",
            "=========================== Initializing pipeline ===========================\u001b[0m\n",
            "[2025-04-02 18:28:48,116] [INFO] Set up nlp object from config\n",
            "[2025-04-02 18:28:48,133] [DEBUG] Loading corpus from path: /content/drive/MyDrive/Colab Notebooks/FinalProjectApps/spacyfiles/dev.spacy\n",
            "[2025-04-02 18:28:48,136] [DEBUG] Loading corpus from path: /content/drive/MyDrive/Colab Notebooks/FinalProjectApps/spacyfiles/train.spacy\n",
            "[2025-04-02 18:28:48,136] [INFO] Pipeline: ['textcat']\n",
            "[2025-04-02 18:28:48,139] [INFO] Created vocabulary\n",
            "[2025-04-02 18:28:48,140] [INFO] Finished initializing nlp object\n",
            "[2025-04-02 18:29:06,339] [INFO] Initialized pipeline components: ['textcat']\n",
            "\u001b[38;5;2m✔ Initialized pipeline\u001b[0m\n",
            "\u001b[1m\n",
            "============================= Training pipeline =============================\u001b[0m\n",
            "[2025-04-02 18:29:06,367] [DEBUG] Loading corpus from path: /content/drive/MyDrive/Colab Notebooks/FinalProjectApps/spacyfiles/dev.spacy\n",
            "[2025-04-02 18:29:06,371] [DEBUG] Loading corpus from path: /content/drive/MyDrive/Colab Notebooks/FinalProjectApps/spacyfiles/train.spacy\n",
            "[2025-04-02 18:29:06,374] [DEBUG] Removed existing output directory: model/model-best\n",
            "[2025-04-02 18:29:06,377] [DEBUG] Removed existing output directory: model/model-last\n",
            "\u001b[38;5;4mℹ Pipeline: ['textcat']\u001b[0m\n",
            "\u001b[38;5;4mℹ Initial learn rate: 0.001\u001b[0m\n",
            "E    #       LOSS TEXTCAT  CATS_SCORE  SCORE \n",
            "---  ------  ------------  ----------  ------\n",
            "  0       0          0.25       44.89    0.45\n",
            "  0     200         38.35       43.52    0.44\n",
            "  0     400         34.98       50.65    0.51\n",
            "  0     600         31.08       57.36    0.57\n",
            "  0     800         30.11       62.40    0.62\n",
            "  0    1000         29.36       64.90    0.65\n",
            "  0    1200         28.12       70.01    0.70\n",
            "  0    1400         26.35       69.75    0.70\n",
            "  1    1600         22.09       72.25    0.72\n",
            "  1    1800         19.56       73.72    0.74\n",
            "  1    2000         18.54       73.34    0.73\n",
            "  2    2200         15.49       73.72    0.74\n",
            "  2    2400         15.31       74.86    0.75\n",
            "  3    2600         12.84       74.51    0.75\n",
            "  4    2800         12.33       74.89    0.75\n",
            "  4    3000         11.38       74.56    0.75\n",
            "  5    3200         10.18       74.09    0.74\n",
            "  6    3400         10.28       74.95    0.75\n",
            "  6    3600          8.75       74.50    0.75\n",
            "  7    3800          8.59       74.58    0.75\n",
            "  7    4000          8.11       74.46    0.74\n",
            "  8    4200          7.34       74.55    0.75\n",
            "  9    4400          7.25       74.45    0.74\n",
            "  9    4600          6.66       74.04    0.74\n",
            " 10    4800          6.11       73.94    0.74\n",
            " 10    5000          6.16       73.71    0.74\n",
            "\u001b[38;5;2m✔ Saved pipeline to output directory\u001b[0m\n",
            "model/model-last\n"
          ]
        }
      ]
    },
    {
      "cell_type": "code",
      "source": [
        "!python -m spacy evaluate ./model/model-best/ \"/content/drive/MyDrive/Colab Notebooks/FinalProjectApps/spacyfiles/test.spacy\"\n"
      ],
      "metadata": {
        "colab": {
          "base_uri": "https://localhost:8080/"
        },
        "id": "jZPBG6Xfv9FU",
        "outputId": "77e31b3e-add5-4959-cf28-2ca7e04505f8"
      },
      "execution_count": null,
      "outputs": [
        {
          "output_type": "stream",
          "name": "stdout",
          "text": [
            "\u001b[38;5;4mℹ Using CPU\u001b[0m\n",
            "\u001b[1m\n",
            "================================== Results ==================================\u001b[0m\n",
            "\n",
            "TOK                 99.98 \n",
            "TEXTCAT (macro F)   72.74 \n",
            "SPEED               137349\n",
            "\n",
            "\u001b[1m\n",
            "=========================== Textcat F (per label) ===========================\u001b[0m\n",
            "\n",
            "                      P       R       F\n",
            "hate_speech       65.96   49.49   56.55\n",
            "non_hate_speech   85.81   92.28   88.93\n",
            "\n",
            "\u001b[1m\n",
            "======================== Textcat ROC AUC (per label) ========================\u001b[0m\n",
            "\n",
            "                  ROC AUC\n",
            "hate_speech          0.84\n",
            "non_hate_speech      0.84\n",
            "\n"
          ]
        }
      ]
    },
    {
      "cell_type": "code",
      "source": [
        "import spacy\n",
        "import spacy.tokens\n",
        "from spacy.tokens import DocBin\n",
        "import json\n",
        "from sklearn.metrics import confusion_matrix, ConfusionMatrixDisplay\n",
        "import matplotlib.pyplot as plt\n",
        "\n",
        "#load trained model\n",
        "nlp = spacy.load(\"./model/model-best/\")\n",
        "\n",
        "#load test dataset\n",
        "test_data_path = \"/content/drive/MyDrive/Colab Notebooks/FinalProjectApps/spacyfiles/test.spacy\"\n",
        "doc_bin = DocBin().from_disk(test_data_path)\n",
        "docs = list(doc_bin.get_docs(nlp.vocab))\n",
        "\n",
        "\n",
        "true_labels = []\n",
        "pred_labels = []\n",
        "\n",
        "for doc in docs:\n",
        "    if doc.cats:\n",
        "        true_label = max(doc.cats, key=doc.cats.get)\n",
        "        pred_label = max(nlp(doc.text).cats, key=nlp(doc.text).cats.get)\n",
        "\n",
        "        true_labels.append(true_label)\n",
        "        pred_labels.append(pred_label)\n",
        "\n",
        "#save predictions\n",
        "output_path = \"/content/drive/MyDrive/Colab Notebooks/FinalProjectApps/metrics/predictions_efficiency.json\"\n",
        "with open(output_path, \"w\") as f:\n",
        "    json.dump({\"true_labels\": true_labels, \"pred_labels\": pred_labels}, f, indent=4)\n",
        "\n",
        "print(f\"Predictions saved to: {output_path}\")\n"
      ],
      "metadata": {
        "colab": {
          "base_uri": "https://localhost:8080/"
        },
        "id": "Ymlk-RcyxREQ",
        "outputId": "b8353cec-6d25-40ec-f36c-3b74e3e614ad"
      },
      "execution_count": null,
      "outputs": [
        {
          "output_type": "stream",
          "name": "stdout",
          "text": [
            "Predictions saved to: /content/drive/MyDrive/Colab Notebooks/FinalProjectApps/metrics/predictions_efficiency.json\n"
          ]
        }
      ]
    },
    {
      "cell_type": "code",
      "source": [
        "#confusion matrix\n",
        "cm = confusion_matrix(true_labels, pred_labels, labels=list(set(true_labels)))\n",
        "disp = ConfusionMatrixDisplay(confusion_matrix=cm, display_labels=list(set(true_labels)))\n",
        "\n",
        "#plot\n",
        "plt.figure(figsize=(8, 6))\n",
        "disp.plot(cmap=\"Blues\", values_format=\"d\")\n",
        "plt.title(\"Confusion Matrix Efficiency\")\n",
        "plt.show()\n"
      ],
      "metadata": {
        "colab": {
          "base_uri": "https://localhost:8080/",
          "height": 489
        },
        "id": "1lUE_nd2yRi6",
        "outputId": "34f6687f-fa5c-4d58-a975-f9ad47356c46"
      },
      "execution_count": null,
      "outputs": [
        {
          "output_type": "display_data",
          "data": {
            "text/plain": [
              "<Figure size 800x600 with 0 Axes>"
            ]
          },
          "metadata": {}
        },
        {
          "output_type": "display_data",
          "data": {
            "text/plain": [
              "<Figure size 640x480 with 2 Axes>"
            ],
            "image/png": "[encoded data removed]"
          },
          "metadata": {}
        }
      ]
    },
    {
      "cell_type": "markdown",
      "source": [
        "Accuracy Efficiency:\n",
        "\n",
        "2116 + 343 / 2116 + 177 + 350 + 343 = 2459 / 2986 = 0.8235"
      ],
      "metadata": {
        "id": "zi-fIp2b29Z1"
      }
    },
    {
      "cell_type": "code",
      "source": [
        "texts = [\"guapo\"]"
      ],
      "metadata": {
        "id": "mNcWsbaSoC4u"
      },
      "execution_count": null,
      "outputs": []
    },
    {
      "cell_type": "code",
      "source": [
        "nlp = spacy.load(\"model/model-best\")\n",
        "doc = nlp(texts[0])\n",
        "print(doc.cats)"
      ],
      "metadata": {
        "colab": {
          "base_uri": "https://localhost:8080/"
        },
        "id": "bJokphOAoGpG",
        "outputId": "e4f84e4c-434f-48b4-f293-fbe60df3c9c5"
      },
      "execution_count": null,
      "outputs": [
        {
          "output_type": "stream",
          "name": "stdout",
          "text": [
            "{'hate_speech': 0.29505452513694763, 'non_hate_speech': 0.70494544506073}\n"
          ]
        }
      ]
    },
    {
      "cell_type": "code",
      "source": [
        "texts_2 = [\"puto gilipollas\"]"
      ],
      "metadata": {
        "id": "VC7vV1TvoLiI"
      },
      "execution_count": null,
      "outputs": []
    },
    {
      "cell_type": "code",
      "source": [
        "nlp = spacy.load(\"model/model-best\")\n",
        "doc = nlp(texts_2[0])\n",
        "print(doc.cats)"
      ],
      "metadata": {
        "colab": {
          "base_uri": "https://localhost:8080/"
        },
        "id": "BJ6d73LDoQmk",
        "outputId": "f0663c5e-2771-414a-e1c8-6a34773c9ac4"
      },
      "execution_count": null,
      "outputs": [
        {
          "output_type": "stream",
          "name": "stdout",
          "text": [
            "{'hate_speech': 0.6378998756408691, 'non_hate_speech': 0.3621000647544861}\n"
          ]
        }
      ]
    },
    {
      "cell_type": "markdown",
      "source": [
        "# CNN"
      ],
      "metadata": {
        "id": "97JIPmqS_NEr"
      }
    },
    {
      "cell_type": "code",
      "source": [
        "!python -m spacy train \"/content/drive/MyDrive/Colab Notebooks/FinalProjectApps/configs/single_label_cnn.cfg\" --paths.train \"/content/drive/MyDrive/Colab Notebooks/FinalProjectApps/spacyfiles/train.spacy\"  --paths.dev \"/content/drive/MyDrive/Colab Notebooks/FinalProjectApps/spacyfiles/dev.spacy\" --output model --verbose"
      ],
      "metadata": {
        "colab": {
          "base_uri": "https://localhost:8080/"
        },
        "id": "FdMf_J-b_N4E",
        "outputId": "3d7a1004-3983-4d1a-a2ff-86e87206a30e"
      },
      "execution_count": null,
      "outputs": [
        {
          "output_type": "stream",
          "name": "stdout",
          "text": [
            "[2025-04-02 17:56:37,936] [DEBUG] Config overrides from CLI: ['paths.train', 'paths.dev']\n",
            "\u001b[38;5;4mℹ Saving to output directory: model\u001b[0m\n",
            "\u001b[38;5;4mℹ Using CPU\u001b[0m\n",
            "\u001b[1m\n",
            "=========================== Initializing pipeline ===========================\u001b[0m\n",
            "[2025-04-02 17:56:38,325] [INFO] Set up nlp object from config\n",
            "[2025-04-02 17:56:38,343] [DEBUG] Loading corpus from path: /content/drive/MyDrive/Colab Notebooks/FinalProjectApps/spacyfiles/dev.spacy\n",
            "[2025-04-02 17:56:38,346] [DEBUG] Loading corpus from path: /content/drive/MyDrive/Colab Notebooks/FinalProjectApps/spacyfiles/train.spacy\n",
            "[2025-04-02 17:56:38,346] [INFO] Pipeline: ['textcat']\n",
            "[2025-04-02 17:56:38,349] [INFO] Created vocabulary\n",
            "[2025-04-02 17:56:38,350] [INFO] Finished initializing nlp object\n",
            "[2025-04-02 17:57:06,845] [INFO] Initialized pipeline components: ['textcat']\n",
            "\u001b[38;5;2m✔ Initialized pipeline\u001b[0m\n",
            "\u001b[1m\n",
            "============================= Training pipeline =============================\u001b[0m\n",
            "[2025-04-02 17:57:06,864] [DEBUG] Loading corpus from path: /content/drive/MyDrive/Colab Notebooks/FinalProjectApps/spacyfiles/dev.spacy\n",
            "[2025-04-02 17:57:06,867] [DEBUG] Loading corpus from path: /content/drive/MyDrive/Colab Notebooks/FinalProjectApps/spacyfiles/train.spacy\n",
            "[2025-04-02 17:57:06,868] [DEBUG] Removed existing output directory: model/model-best\n",
            "[2025-04-02 17:57:06,869] [DEBUG] Removed existing output directory: model/model-last\n",
            "\u001b[38;5;4mℹ Pipeline: ['textcat']\u001b[0m\n",
            "\u001b[38;5;4mℹ Initial learn rate: 0.001\u001b[0m\n",
            "E    #       LOSS TEXTCAT  CATS_SCORE  SCORE \n",
            "---  ------  ------------  ----------  ------\n",
            "  0       0          0.25       49.36    0.49\n",
            "  0     200         36.60       48.31    0.48\n",
            "  0     400         34.10       59.91    0.60\n",
            "  0     600         30.43       64.93    0.65\n",
            "  0     800         29.33       64.62    0.65\n",
            "  0    1000         29.03       71.50    0.71\n",
            "  0    1200         27.21       73.03    0.73\n",
            "  0    1400         26.53       70.19    0.70\n",
            "  1    1600         24.71       73.11    0.73\n",
            "  1    1800         22.45       71.57    0.72\n",
            "  1    2000         20.89       73.08    0.73\n",
            "  2    2200         17.09       71.94    0.72\n",
            "  2    2400         17.02       73.82    0.74\n",
            "  3    2600         12.13       74.09    0.74\n",
            "  4    2800         11.74       74.87    0.75\n",
            "  4    3000          9.27       73.63    0.74\n",
            "  5    3200          7.41       74.82    0.75\n",
            "  6    3400          7.57       73.96    0.74\n",
            "  6    3600          5.44       72.86    0.73\n",
            "  7    3800          4.84       73.64    0.74\n",
            "  7    4000          5.28       73.29    0.73\n",
            "  8    4200          3.87       72.30    0.72\n",
            "  9    4400          4.52       72.92    0.73\n",
            "\u001b[38;5;2m✔ Saved pipeline to output directory\u001b[0m\n",
            "model/model-last\n"
          ]
        }
      ]
    },
    {
      "cell_type": "code",
      "source": [
        "!python -m spacy evaluate ./model/model-best/ \"/content/drive/MyDrive/Colab Notebooks/FinalProjectApps/spacyfiles/test.spacy\"\n"
      ],
      "metadata": {
        "colab": {
          "base_uri": "https://localhost:8080/"
        },
        "id": "irEKzZ3014mQ",
        "outputId": "ad3ad6d5-74b0-44d6-e802-8acbda000982"
      },
      "execution_count": null,
      "outputs": [
        {
          "output_type": "stream",
          "name": "stdout",
          "text": [
            "\u001b[38;5;4mℹ Using CPU\u001b[0m\n",
            "\u001b[1m\n",
            "================================== Results ==================================\u001b[0m\n",
            "\n",
            "TOK                 99.98\n",
            "TEXTCAT (macro F)   73.09\n",
            "SPEED               21640\n",
            "\n",
            "\u001b[1m\n",
            "=========================== Textcat F (per label) ===========================\u001b[0m\n",
            "\n",
            "                      P       R       F\n",
            "hate_speech       63.28   52.96   57.66\n",
            "non_hate_speech   86.45   90.71   88.53\n",
            "\n",
            "\u001b[1m\n",
            "======================== Textcat ROC AUC (per label) ========================\u001b[0m\n",
            "\n",
            "                  ROC AUC\n",
            "hate_speech          0.84\n",
            "non_hate_speech      0.84\n",
            "\n"
          ]
        }
      ]
    },
    {
      "cell_type": "code",
      "source": [
        "import spacy\n",
        "import spacy.tokens\n",
        "from spacy.tokens import DocBin\n",
        "import json\n",
        "from sklearn.metrics import confusion_matrix, ConfusionMatrixDisplay\n",
        "import matplotlib.pyplot as plt\n",
        "\n",
        "#load trained model\n",
        "nlp = spacy.load(\"./model/model-best/\")\n",
        "\n",
        "#load test dataset\n",
        "test_data_path = \"/content/drive/MyDrive/Colab Notebooks/FinalProjectApps/spacyfiles/test.spacy\"\n",
        "doc_bin = DocBin().from_disk(test_data_path)\n",
        "docs = list(doc_bin.get_docs(nlp.vocab))\n",
        "\n",
        "true_labels = []\n",
        "pred_labels = []\n",
        "\n",
        "for doc in docs:\n",
        "    if doc.cats:\n",
        "        true_label = max(doc.cats, key=doc.cats.get)\n",
        "        pred_label = max(nlp(doc.text).cats, key=nlp(doc.text).cats.get)\n",
        "\n",
        "        true_labels.append(true_label)\n",
        "        pred_labels.append(pred_label)\n",
        "\n",
        "#Save predictions\n",
        "output_path = \"/content/drive/MyDrive/Colab Notebooks/FinalProjectApps/metrics/predictions_CNN.json\"\n",
        "with open(output_path, \"w\") as f:\n",
        "    json.dump({\"true_labels\": true_labels, \"pred_labels\": pred_labels}, f, indent=4)\n",
        "\n",
        "print(f\"Predictions saved to: {output_path}\")\n"
      ],
      "metadata": {
        "colab": {
          "base_uri": "https://localhost:8080/"
        },
        "id": "wO7I93983ba5",
        "outputId": "4a1f486c-c58e-4d67-897c-34f5a1e4079a"
      },
      "execution_count": null,
      "outputs": [
        {
          "output_type": "stream",
          "name": "stdout",
          "text": [
            "Predictions saved to: /content/drive/MyDrive/Colab Notebooks/FinalProjectApps/metrics/predictions_CNN.json\n"
          ]
        }
      ]
    },
    {
      "cell_type": "code",
      "source": [
        "cm = confusion_matrix(true_labels, pred_labels, labels=list(set(true_labels)))\n",
        "disp = ConfusionMatrixDisplay(confusion_matrix=cm, display_labels=list(set(true_labels)))\n",
        "\n",
        "#Plot\n",
        "plt.figure(figsize=(8, 6))\n",
        "disp.plot(cmap=\"Blues\", values_format=\"d\")\n",
        "plt.title(\"Confusion Matrix CNN\")\n",
        "plt.show()"
      ],
      "metadata": {
        "colab": {
          "base_uri": "https://localhost:8080/",
          "height": 489
        },
        "id": "-GJo9s4o3nue",
        "outputId": "6a0e0566-888c-4113-ce40-590594c7e525"
      },
      "execution_count": null,
      "outputs": [
        {
          "output_type": "display_data",
          "data": {
            "text/plain": [
              "<Figure size 800x600 with 0 Axes>"
            ]
          },
          "metadata": {}
        },
        {
          "output_type": "display_data",
          "data": {
            "text/plain": [
              "<Figure size 640x480 with 2 Axes>"
            ],
            "image/png": "[encoded data removed]"
          },
          "metadata": {}
        }
      ]
    },
    {
      "cell_type": "markdown",
      "source": [
        "Accuracy CNN:\n",
        "\n",
        "2080 + 367 / 2080 + 367 + 213 + 326 = 2447 / 2986 = 0.8194"
      ],
      "metadata": {
        "id": "kHvwrg6l571I"
      }
    },
    {
      "cell_type": "code",
      "source": [
        "texts = [\"guapo\"]"
      ],
      "metadata": {
        "id": "zc77gEv_peuR"
      },
      "execution_count": null,
      "outputs": []
    },
    {
      "cell_type": "code",
      "source": [
        "nlp = spacy.load(\"model/model-best\")\n",
        "doc = nlp(texts[0])\n",
        "print(doc.cats)"
      ],
      "metadata": {
        "colab": {
          "base_uri": "https://localhost:8080/"
        },
        "id": "Wje5KhqUpg9U",
        "outputId": "4a20092d-4685-48a4-b5da-deb63e6fae1a"
      },
      "execution_count": null,
      "outputs": [
        {
          "output_type": "stream",
          "name": "stdout",
          "text": [
            "{'hate_speech': 1.198021165981617e-16, 'non_hate_speech': 1.0}\n"
          ]
        }
      ]
    },
    {
      "cell_type": "code",
      "source": [
        "texts_2 = [\"puto gilipollas\"]"
      ],
      "metadata": {
        "id": "MwerqIy2pjO2"
      },
      "execution_count": null,
      "outputs": []
    },
    {
      "cell_type": "code",
      "source": [
        "nlp = spacy.load(\"model/model-best\")\n",
        "doc = nlp(texts_2[0])\n",
        "print(doc.cats)"
      ],
      "metadata": {
        "colab": {
          "base_uri": "https://localhost:8080/"
        },
        "id": "0W29G8Iyplse",
        "outputId": "01d69d64-53eb-4b39-d46e-00e99634e6f9"
      },
      "execution_count": null,
      "outputs": [
        {
          "output_type": "stream",
          "name": "stdout",
          "text": [
            "{'hate_speech': 0.9971854090690613, 'non_hate_speech': 0.0028146179392933846}\n"
          ]
        }
      ]
    },
    {
      "cell_type": "markdown",
      "source": [
        "# BOW"
      ],
      "metadata": {
        "id": "ecwIjIopBxOq"
      }
    },
    {
      "cell_type": "code",
      "source": [
        "!python -m spacy train \"/content/drive/MyDrive/Colab Notebooks/FinalProjectApps/configs/single_label_bow.cfg\" --paths.train \"/content/drive/MyDrive/Colab Notebooks/FinalProjectApps/spacyfiles/train.spacy\"  --paths.dev \"/content/drive/MyDrive/Colab Notebooks/FinalProjectApps/spacyfiles/dev.spacy\" --output model --verbose"
      ],
      "metadata": {
        "colab": {
          "base_uri": "https://localhost:8080/"
        },
        "id": "L7t1nnhvBy_y",
        "outputId": "307d73df-f09e-4d85-c033-7dd72750c3ac"
      },
      "execution_count": null,
      "outputs": [
        {
          "output_type": "stream",
          "name": "stdout",
          "text": [
            "[2025-04-02 18:11:56,410] [DEBUG] Config overrides from CLI: ['paths.train', 'paths.dev']\n",
            "\u001b[38;5;4mℹ Saving to output directory: model\u001b[0m\n",
            "\u001b[38;5;4mℹ Using CPU\u001b[0m\n",
            "\u001b[1m\n",
            "=========================== Initializing pipeline ===========================\u001b[0m\n",
            "[2025-04-02 18:11:56,784] [INFO] Set up nlp object from config\n",
            "[2025-04-02 18:11:56,802] [DEBUG] Loading corpus from path: /content/drive/MyDrive/Colab Notebooks/FinalProjectApps/spacyfiles/dev.spacy\n",
            "[2025-04-02 18:11:56,805] [DEBUG] Loading corpus from path: /content/drive/MyDrive/Colab Notebooks/FinalProjectApps/spacyfiles/train.spacy\n",
            "[2025-04-02 18:11:56,805] [INFO] Pipeline: ['textcat']\n",
            "[2025-04-02 18:11:56,808] [INFO] Created vocabulary\n",
            "[2025-04-02 18:11:56,808] [INFO] Finished initializing nlp object\n",
            "[2025-04-02 18:12:33,014] [INFO] Initialized pipeline components: ['textcat']\n",
            "\u001b[38;5;2m✔ Initialized pipeline\u001b[0m\n",
            "\u001b[1m\n",
            "============================= Training pipeline =============================\u001b[0m\n",
            "[2025-04-02 18:12:33,033] [DEBUG] Loading corpus from path: /content/drive/MyDrive/Colab Notebooks/FinalProjectApps/spacyfiles/dev.spacy\n",
            "[2025-04-02 18:12:33,036] [DEBUG] Loading corpus from path: /content/drive/MyDrive/Colab Notebooks/FinalProjectApps/spacyfiles/train.spacy\n",
            "[2025-04-02 18:12:33,038] [DEBUG] Removed existing output directory: model/model-best\n",
            "[2025-04-02 18:12:33,041] [DEBUG] Removed existing output directory: model/model-last\n",
            "\u001b[38;5;4mℹ Pipeline: ['textcat']\u001b[0m\n",
            "\u001b[38;5;4mℹ Initial learn rate: 0.001\u001b[0m\n",
            "E    #       LOSS TEXTCAT  CATS_SCORE  SCORE \n",
            "---  ------  ------------  ----------  ------\n",
            "  0       0          0.25       44.91    0.45\n",
            "  0     200         38.52       43.52    0.44\n",
            "  0     400         35.15       50.34    0.50\n",
            "  0     600         31.08       56.92    0.57\n",
            "  0     800         30.25       62.45    0.62\n",
            "  0    1000         29.33       64.88    0.65\n",
            "  0    1200         28.26       70.29    0.70\n",
            "  0    1400         26.42       70.03    0.70\n",
            "  1    1600         22.14       72.41    0.72\n",
            "  1    1800         19.82       73.36    0.73\n",
            "  1    2000         18.75       73.46    0.73\n",
            "  2    2200         15.80       73.39    0.73\n",
            "  2    2400         15.68       74.80    0.75\n",
            "  3    2600         13.13       74.19    0.74\n",
            "  4    2800         12.63       74.56    0.75\n",
            "  4    3000         11.73       74.50    0.75\n",
            "  5    3200         10.51       74.08    0.74\n",
            "  6    3400         10.63       74.36    0.74\n",
            "  6    3600          9.13       74.31    0.74\n",
            "  7    3800          8.84       74.19    0.74\n",
            "  7    4000          8.37       74.20    0.74\n",
            "\u001b[38;5;2m✔ Saved pipeline to output directory\u001b[0m\n",
            "model/model-last\n"
          ]
        }
      ]
    },
    {
      "cell_type": "code",
      "source": [
        "!python -m spacy evaluate ./model/model-best/ \"/content/drive/MyDrive/Colab Notebooks/FinalProjectApps/spacyfiles/test.spacy\""
      ],
      "metadata": {
        "colab": {
          "base_uri": "https://localhost:8080/"
        },
        "id": "iYXXnc4eCeB8",
        "outputId": "04b5270f-2097-4fd2-bc0a-49a9fdff69a0"
      },
      "execution_count": null,
      "outputs": [
        {
          "output_type": "stream",
          "name": "stdout",
          "text": [
            "\u001b[38;5;4mℹ Using CPU\u001b[0m\n",
            "\u001b[1m\n",
            "================================== Results ==================================\u001b[0m\n",
            "\n",
            "TOK                 99.98 \n",
            "TEXTCAT (macro F)   74.11 \n",
            "SPEED               135404\n",
            "\n",
            "\u001b[1m\n",
            "=========================== Textcat F (per label) ===========================\u001b[0m\n",
            "\n",
            "                      P       R       F\n",
            "hate_speech       68.19   51.66   58.78\n",
            "non_hate_speech   86.39   92.72   89.44\n",
            "\n",
            "\u001b[1m\n",
            "======================== Textcat ROC AUC (per label) ========================\u001b[0m\n",
            "\n",
            "                  ROC AUC\n",
            "hate_speech          0.85\n",
            "non_hate_speech      0.85\n",
            "\n"
          ]
        }
      ]
    },
    {
      "cell_type": "code",
      "source": [
        "import spacy\n",
        "import spacy.tokens\n",
        "from spacy.tokens import DocBin\n",
        "import json\n",
        "from sklearn.metrics import confusion_matrix, ConfusionMatrixDisplay\n",
        "import matplotlib.pyplot as plt\n",
        "\n",
        "#Load trained model\n",
        "nlp = spacy.load(\"./model/model-best/\")\n",
        "\n",
        "#Load test dataset\n",
        "test_data_path = \"/content/drive/MyDrive/Colab Notebooks/FinalProjectApps/spacyfiles/test.spacy\"\n",
        "doc_bin = DocBin().from_disk(test_data_path)\n",
        "docs = list(doc_bin.get_docs(nlp.vocab))\n",
        "\n",
        "true_labels = []\n",
        "pred_labels = []\n",
        "\n",
        "for doc in docs:\n",
        "    if doc.cats:\n",
        "        true_label = max(doc.cats, key=doc.cats.get)\n",
        "        pred_label = max(nlp(doc.text).cats, key=nlp(doc.text).cats.get)\n",
        "\n",
        "        true_labels.append(true_label)\n",
        "        pred_labels.append(pred_label)\n",
        "\n",
        "output_path = \"/content/drive/MyDrive/Colab Notebooks/FinalProjectApps/metrics/predictions_BOW.json\"\n",
        "with open(output_path, \"w\") as f:\n",
        "    json.dump({\"true_labels\": true_labels, \"pred_labels\": pred_labels}, f, indent=4)\n",
        "\n",
        "print(f\"Predictions saved to: {output_path}\")"
      ],
      "metadata": {
        "colab": {
          "base_uri": "https://localhost:8080/"
        },
        "id": "1Q-jSHgc7ATp",
        "outputId": "d3c4abfc-53ef-4736-e32f-2c761c7eafe1"
      },
      "execution_count": null,
      "outputs": [
        {
          "output_type": "stream",
          "name": "stdout",
          "text": [
            "Predictions saved to: /content/drive/MyDrive/Colab Notebooks/FinalProjectApps/metrics/predictions_BOW.json\n"
          ]
        }
      ]
    },
    {
      "cell_type": "code",
      "source": [
        "#confusion matrix\n",
        "cm = confusion_matrix(true_labels, pred_labels, labels=list(set(true_labels)))\n",
        "disp = ConfusionMatrixDisplay(confusion_matrix=cm, display_labels=list(set(true_labels)))\n",
        "\n",
        "#plot\n",
        "plt.figure(figsize=(8, 6))\n",
        "disp.plot(cmap=\"Blues\", values_format=\"d\")\n",
        "plt.title(\"Confusion Matrix BOW\")\n",
        "plt.show()"
      ],
      "metadata": {
        "colab": {
          "base_uri": "https://localhost:8080/",
          "height": 489
        },
        "id": "jE_Ur3Uf7FUg",
        "outputId": "83429d17-f395-4e37-996b-0f9ae37cde8a"
      },
      "execution_count": null,
      "outputs": [
        {
          "output_type": "display_data",
          "data": {
            "text/plain": [
              "<Figure size 800x600 with 0 Axes>"
            ]
          },
          "metadata": {}
        },
        {
          "output_type": "display_data",
          "data": {
            "text/plain": [
              "<Figure size 640x480 with 2 Axes>"
            ],
            "image/png": "[encoded data removed]"
          },
          "metadata": {}
        }
      ]
    },
    {
      "cell_type": "markdown",
      "source": [
        "BOW accuracy:\n",
        "\n",
        "2126 + 358 / 2126 + 358 + 167 + 335 = 2484 / 2986 = 0.8318"
      ],
      "metadata": {
        "id": "eXvL6rZ87US6"
      }
    },
    {
      "cell_type": "code",
      "source": [
        "texts = [\"guapo\"]"
      ],
      "metadata": {
        "id": "oFMMHZjdtK_g"
      },
      "execution_count": null,
      "outputs": []
    },
    {
      "cell_type": "code",
      "source": [
        "nlp = spacy.load(\"model/model-best\")\n",
        "doc = nlp(texts[0])\n",
        "print(doc.cats)"
      ],
      "metadata": {
        "colab": {
          "base_uri": "https://localhost:8080/"
        },
        "id": "sc6QVax9tM_U",
        "outputId": "0be26436-a705-4fe2-a34c-2a069d371d8a"
      },
      "execution_count": null,
      "outputs": [
        {
          "output_type": "stream",
          "name": "stdout",
          "text": [
            "{'hate_speech': 0.3195352852344513, 'non_hate_speech': 0.6804647445678711}\n"
          ]
        }
      ]
    },
    {
      "cell_type": "code",
      "source": [
        "texts_2 = [\"puto gilipollas\"]"
      ],
      "metadata": {
        "id": "7sMlXOFntPTk"
      },
      "execution_count": null,
      "outputs": []
    },
    {
      "cell_type": "code",
      "source": [
        "nlp = spacy.load(\"model/model-best\")\n",
        "doc = nlp(texts_2[0])\n",
        "print(doc.cats)"
      ],
      "metadata": {
        "colab": {
          "base_uri": "https://localhost:8080/"
        },
        "id": "N59evl9ktSAA",
        "outputId": "a3551270-af07-4b14-95b0-e8a96da092a9"
      },
      "execution_count": null,
      "outputs": [
        {
          "output_type": "stream",
          "name": "stdout",
          "text": [
            "{'hate_speech': 0.641968846321106, 'non_hate_speech': 0.35803118348121643}\n"
          ]
        }
      ]
    },
    {
      "cell_type": "markdown",
      "source": [
        "# ENSEMBLE"
      ],
      "metadata": {
        "id": "9klJIib6GYQ5"
      }
    },
    {
      "cell_type": "code",
      "source": [
        "!python -m spacy train \"/content/drive/MyDrive/Colab Notebooks/FinalProjectApps/configs/single_label_ensemble.cfg\" --paths.train \"/content/drive/MyDrive/Colab Notebooks/FinalProjectApps/spacyfiles/train.spacy\"  --paths.dev \"/content/drive/MyDrive/Colab Notebooks/FinalProjectApps/spacyfiles/dev.spacy\" --output model --verbose"
      ],
      "metadata": {
        "colab": {
          "base_uri": "https://localhost:8080/"
        },
        "id": "_2EVZ1xFGZla",
        "outputId": "096f8385-f93b-49c7-eb9c-f03db0aeb0bf"
      },
      "execution_count": null,
      "outputs": [
        {
          "output_type": "stream",
          "name": "stdout",
          "text": [
            "[2025-04-02 18:18:33,782] [DEBUG] Config overrides from CLI: ['paths.train', 'paths.dev']\n",
            "\u001b[38;5;4mℹ Saving to output directory: model\u001b[0m\n",
            "\u001b[38;5;4mℹ Using CPU\u001b[0m\n",
            "\u001b[1m\n",
            "=========================== Initializing pipeline ===========================\u001b[0m\n",
            "[2025-04-02 18:18:34,171] [INFO] Set up nlp object from config\n",
            "[2025-04-02 18:18:34,190] [DEBUG] Loading corpus from path: /content/drive/MyDrive/Colab Notebooks/FinalProjectApps/spacyfiles/dev.spacy\n",
            "[2025-04-02 18:18:34,193] [DEBUG] Loading corpus from path: /content/drive/MyDrive/Colab Notebooks/FinalProjectApps/spacyfiles/train.spacy\n",
            "[2025-04-02 18:18:34,193] [INFO] Pipeline: ['textcat']\n",
            "[2025-04-02 18:18:34,197] [INFO] Created vocabulary\n",
            "[2025-04-02 18:18:34,197] [INFO] Finished initializing nlp object\n",
            "[2025-04-02 18:18:52,395] [INFO] Initialized pipeline components: ['textcat']\n",
            "\u001b[38;5;2m✔ Initialized pipeline\u001b[0m\n",
            "\u001b[1m\n",
            "============================= Training pipeline =============================\u001b[0m\n",
            "[2025-04-02 18:18:52,428] [DEBUG] Loading corpus from path: /content/drive/MyDrive/Colab Notebooks/FinalProjectApps/spacyfiles/dev.spacy\n",
            "[2025-04-02 18:18:52,433] [DEBUG] Loading corpus from path: /content/drive/MyDrive/Colab Notebooks/FinalProjectApps/spacyfiles/train.spacy\n",
            "[2025-04-02 18:18:52,436] [DEBUG] Removed existing output directory: model/model-best\n",
            "[2025-04-02 18:18:52,438] [DEBUG] Removed existing output directory: model/model-last\n",
            "\u001b[38;5;4mℹ Pipeline: ['textcat']\u001b[0m\n",
            "\u001b[38;5;4mℹ Initial learn rate: 0.001\u001b[0m\n",
            "E    #       LOSS TEXTCAT  CATS_SCORE  SCORE \n",
            "---  ------  ------------  ----------  ------\n",
            "  0       0          0.25       38.10    0.38\n",
            "  0     200         36.69       45.85    0.46\n",
            "  0     400         33.50       64.66    0.65\n",
            "  0     600         29.73       68.74    0.69\n",
            "  0     800         28.37       70.17    0.70\n",
            "  0    1000         27.50       71.71    0.72\n",
            "  0    1200         26.62       72.57    0.73\n",
            "  0    1400         25.32       71.75    0.72\n",
            "  1    1600         23.39       75.08    0.75\n",
            "  1    1800         21.85       73.50    0.74\n",
            "  1    2000         20.45       73.79    0.74\n",
            "  2    2200         16.06       73.40    0.73\n",
            "  2    2400         16.33       74.33    0.74\n",
            "  3    2600         11.65       72.55    0.73\n",
            "  4    2800         11.06       73.70    0.74\n",
            "  4    3000          9.04       72.78    0.73\n",
            "  5    3200          8.02       73.18    0.73\n",
            "\u001b[38;5;2m✔ Saved pipeline to output directory\u001b[0m\n",
            "model/model-last\n"
          ]
        }
      ]
    },
    {
      "cell_type": "code",
      "source": [
        "!python -m spacy evaluate ./model/model-best/ \"/content/drive/MyDrive/Colab Notebooks/FinalProjectApps/spacyfiles/test.spacy\""
      ],
      "metadata": {
        "colab": {
          "base_uri": "https://localhost:8080/"
        },
        "id": "xo7JICQVJKGZ",
        "outputId": "4c411798-af95-4cf6-fe9b-b7d7886af21d"
      },
      "execution_count": null,
      "outputs": [
        {
          "output_type": "stream",
          "name": "stdout",
          "text": [
            "\u001b[38;5;4mℹ Using CPU\u001b[0m\n",
            "\u001b[1m\n",
            "================================== Results ==================================\u001b[0m\n",
            "\n",
            "TOK                 99.98\n",
            "TEXTCAT (macro F)   73.79\n",
            "SPEED               28183\n",
            "\n",
            "\u001b[1m\n",
            "=========================== Textcat F (per label) ===========================\u001b[0m\n",
            "\n",
            "                      P       R       F\n",
            "hate_speech       59.38   60.32   59.84\n",
            "non_hate_speech   87.95   87.53   87.74\n",
            "\n",
            "\u001b[1m\n",
            "======================== Textcat ROC AUC (per label) ========================\u001b[0m\n",
            "\n",
            "                  ROC AUC\n",
            "hate_speech          0.84\n",
            "non_hate_speech      0.84\n",
            "\n"
          ]
        }
      ]
    },
    {
      "cell_type": "code",
      "source": [
        "import spacy\n",
        "import spacy.tokens\n",
        "from spacy.tokens import DocBin\n",
        "import json\n",
        "from sklearn.metrics import confusion_matrix, ConfusionMatrixDisplay\n",
        "import matplotlib.pyplot as plt\n",
        "\n",
        "nlp = spacy.load(\"./model/model-best/\")\n",
        "\n",
        "test_data_path = \"/content/drive/MyDrive/Colab Notebooks/FinalProjectApps/spacyfiles/test.spacy\"\n",
        "doc_bin = DocBin().from_disk(test_data_path)\n",
        "docs = list(doc_bin.get_docs(nlp.vocab))\n",
        "\n",
        "true_labels = []\n",
        "pred_labels = []\n",
        "\n",
        "for doc in docs:\n",
        "    if doc.cats:\n",
        "        true_label = max(doc.cats, key=doc.cats.get)\n",
        "        pred_label = max(nlp(doc.text).cats, key=nlp(doc.text).cats.get)\n",
        "\n",
        "        true_labels.append(true_label)\n",
        "        pred_labels.append(pred_label)\n",
        "\n",
        "output_path = \"/content/drive/MyDrive/Colab Notebooks/FinalProjectApps/metrics/predictions_Ensemble.json\"\n",
        "with open(output_path, \"w\") as f:\n",
        "    json.dump({\"true_labels\": true_labels, \"pred_labels\": pred_labels}, f, indent=4)\n",
        "\n",
        "print(f\"Predictions saved to: {output_path}\")"
      ],
      "metadata": {
        "colab": {
          "base_uri": "https://localhost:8080/"
        },
        "id": "mGafR8oe75t5",
        "outputId": "35b459e1-616b-4ead-b557-d72069c57cd3"
      },
      "execution_count": null,
      "outputs": [
        {
          "output_type": "stream",
          "name": "stdout",
          "text": [
            "Predictions saved to: /content/drive/MyDrive/Colab Notebooks/FinalProjectApps/metrics/predictions_Ensemble.json\n"
          ]
        }
      ]
    },
    {
      "cell_type": "code",
      "source": [
        "#confusion matrix\n",
        "cm = confusion_matrix(true_labels, pred_labels, labels=list(set(true_labels)))\n",
        "disp = ConfusionMatrixDisplay(confusion_matrix=cm, display_labels=list(set(true_labels)))\n",
        "\n",
        "#Plot\n",
        "plt.figure(figsize=(8, 6))\n",
        "disp.plot(cmap=\"Blues\", values_format=\"d\")\n",
        "plt.title(\"Confusion Matrix Ensemble\")\n",
        "plt.show()"
      ],
      "metadata": {
        "colab": {
          "base_uri": "https://localhost:8080/",
          "height": 489
        },
        "outputId": "67b7d674-c0e3-43f9-b328-f4f18a65ba88",
        "id": "lWB2pW4w8Ex1"
      },
      "execution_count": null,
      "outputs": [
        {
          "output_type": "display_data",
          "data": {
            "text/plain": [
              "<Figure size 800x600 with 0 Axes>"
            ]
          },
          "metadata": {}
        },
        {
          "output_type": "display_data",
          "data": {
            "text/plain": [
              "<Figure size 640x480 with 2 Axes>"
            ],
            "image/png": "[encoded data removed]"
          },
          "metadata": {}
        }
      ]
    },
    {
      "cell_type": "markdown",
      "source": [
        "Accuracy Ensemble:\n",
        "\n",
        "2007 + 428 /2007 + 418 + 275 + 286 = 2435 / 2996 = 0.8127"
      ],
      "metadata": {
        "id": "vqqCdq9BvwUo"
      }
    },
    {
      "cell_type": "code",
      "source": [
        "texts = [\"guapo\"]"
      ],
      "metadata": {
        "id": "EYAWOixf9GL-"
      },
      "execution_count": null,
      "outputs": []
    },
    {
      "cell_type": "code",
      "source": [
        "nlp = spacy.load(\"model/model-best\")\n",
        "doc = nlp(texts[0])\n",
        "print(doc.cats)"
      ],
      "metadata": {
        "colab": {
          "base_uri": "https://localhost:8080/"
        },
        "id": "DrhGtMYV9KfN",
        "outputId": "aedd9e5f-85dd-495a-b67a-00288df1f0bd"
      },
      "execution_count": null,
      "outputs": [
        {
          "output_type": "stream",
          "name": "stdout",
          "text": [
            "{'hate_speech': 0.09387198090553284, 'non_hate_speech': 0.9061280488967896}\n"
          ]
        }
      ]
    },
    {
      "cell_type": "code",
      "source": [
        "texts_2 = [\"puto gilipollas\"]"
      ],
      "metadata": {
        "id": "YnU4FgX7FYlp"
      },
      "execution_count": null,
      "outputs": []
    },
    {
      "cell_type": "code",
      "source": [
        "nlp = spacy.load(\"model/model-best\")\n",
        "doc = nlp(texts_2[0])\n",
        "print(doc.cats)"
      ],
      "metadata": {
        "colab": {
          "base_uri": "https://localhost:8080/"
        },
        "id": "Vp7wEvAnFd24",
        "outputId": "749962be-ab2c-434b-8774-af604f8181e9"
      },
      "execution_count": null,
      "outputs": [
        {
          "output_type": "stream",
          "name": "stdout",
          "text": [
            "{'hate_speech': 0.9464010000228882, 'non_hate_speech': 0.0535990409553051}\n"
          ]
        }
      ]
    }
  ]
}