{
  "nbformat": 4,
  "nbformat_minor": 0,
  "metadata": {
    "colab": {
      "provenance": [],
      "gpuType": "T4"
    },
    "kernelspec": {
      "name": "python3",
      "display_name": "Python 3"
    },
    "language_info": {
      "name": "python"
    },
    "widgets": {
      "application/vnd.jupyter.widget-state+json": {
        "ba3e6ac0e2cb4e7881230ed4a6f8be9f": {
          "model_module": "@jupyter-widgets/controls",
          "model_name": "VBoxModel",
          "model_module_version": "1.5.0",
          "state": {
            "_dom_classes": [],
            "_model_module": "@jupyter-widgets/controls",
            "_model_module_version": "1.5.0",
            "_model_name": "VBoxModel",
            "_view_count": null,
            "_view_module": "@jupyter-widgets/controls",
            "_view_module_version": "1.5.0",
            "_view_name": "VBoxView",
            "box_style": "",
            "children": [],
            "layout": "IPY_MODEL_e43e8262f3954e888519992d84e7b064"
          }
        },
        "2bcf2e7e1da546aeb916b891eb2f5be6": {
          "model_module": "@jupyter-widgets/controls",
          "model_name": "HTMLModel",
          "model_module_version": "1.5.0",
          "state": {
            "_dom_classes": [],
            "_model_module": "@jupyter-widgets/controls",
            "_model_module_version": "1.5.0",
            "_model_name": "HTMLModel",
            "_view_count": null,
            "_view_module": "@jupyter-widgets/controls",
            "_view_module_version": "1.5.0",
            "_view_name": "HTMLView",
            "description": "",
            "description_tooltip": null,
            "layout": "IPY_MODEL_01d9c91143be48d3b7fdb522771fbb64",
            "placeholder": "​",
            "style": "IPY_MODEL_afd73d7498094469a722940498ff57c5",
            "value": "<center> <img\nsrc=https://huggingface.co/front/assets/huggingface_logo-noborder.svg\nalt='Hugging Face'> <br> Copy a token from <a\nhref=\"https://huggingface.co/settings/tokens\" target=\"_blank\">your Hugging Face\ntokens page</a> and paste it below. <br> Immediately click login after copying\nyour token or it might be stored in plain text in this notebook file. </center>"
          }
        },
        "26d28ec8cfc9492ea1d41ca22b134fec": {
          "model_module": "@jupyter-widgets/controls",
          "model_name": "PasswordModel",
          "model_module_version": "1.5.0",
          "state": {
            "_dom_classes": [],
            "_model_module": "@jupyter-widgets/controls",
            "_model_module_version": "1.5.0",
            "_model_name": "PasswordModel",
            "_view_count": null,
            "_view_module": "@jupyter-widgets/controls",
            "_view_module_version": "1.5.0",
            "_view_name": "PasswordView",
            "continuous_update": true,
            "description": "Token:",
            "description_tooltip": null,
            "disabled": false,
            "layout": "IPY_MODEL_2e8d4348418f49c386f37e58c0e809fc",
            "placeholder": "​",
            "style": "IPY_MODEL_501428862bd64020a975c1b0b092d07b",
            "value": ""
          }
        },
        "c4e63673cd9741e6a68af42928a911e4": {
          "model_module": "@jupyter-widgets/controls",
          "model_name": "CheckboxModel",
          "model_module_version": "1.5.0",
          "state": {
            "_dom_classes": [],
            "_model_module": "@jupyter-widgets/controls",
            "_model_module_version": "1.5.0",
            "_model_name": "CheckboxModel",
            "_view_count": null,
            "_view_module": "@jupyter-widgets/controls",
            "_view_module_version": "1.5.0",
            "_view_name": "CheckboxView",
            "description": "Add token as git credential?",
            "description_tooltip": null,
            "disabled": false,
            "indent": true,
            "layout": "IPY_MODEL_18894ce90f1243cab5490c89a09ceda3",
            "style": "IPY_MODEL_3c7cac34a85d4ba498b67a669bfb7a83",
            "value": true
          }
        },
        "bf4ac5e41bfa489fbb8f273ca9254ec0": {
          "model_module": "@jupyter-widgets/controls",
          "model_name": "ButtonModel",
          "model_module_version": "1.5.0",
          "state": {
            "_dom_classes": [],
            "_model_module": "@jupyter-widgets/controls",
            "_model_module_version": "1.5.0",
            "_model_name": "ButtonModel",
            "_view_count": null,
            "_view_module": "@jupyter-widgets/controls",
            "_view_module_version": "1.5.0",
            "_view_name": "ButtonView",
            "button_style": "",
            "description": "Login",
            "disabled": false,
            "icon": "",
            "layout": "IPY_MODEL_5b653deb9e7447b99d7e253600301c5a",
            "style": "IPY_MODEL_1ab77ccf8b0943b8b8d6b3a8a852c78a",
            "tooltip": ""
          }
        },
        "13a60f395a644a07aa58894de6ed7766": {
          "model_module": "@jupyter-widgets/controls",
          "model_name": "HTMLModel",
          "model_module_version": "1.5.0",
          "state": {
            "_dom_classes": [],
            "_model_module": "@jupyter-widgets/controls",
            "_model_module_version": "1.5.0",
            "_model_name": "HTMLModel",
            "_view_count": null,
            "_view_module": "@jupyter-widgets/controls",
            "_view_module_version": "1.5.0",
            "_view_name": "HTMLView",
            "description": "",
            "description_tooltip": null,
            "layout": "IPY_MODEL_50b95aecf453410489e9d7ff1411fe96",
            "placeholder": "​",
            "style": "IPY_MODEL_6cbef5f40b1b4369b384813428372ae5",
            "value": "\n<b>Pro Tip:</b> If you don't already have one, you can create a dedicated\n'notebooks' token with 'write' access, that you can then easily reuse for all\nnotebooks. </center>"
          }
        },
        "e43e8262f3954e888519992d84e7b064": {
          "model_module": "@jupyter-widgets/base",
          "model_name": "LayoutModel",
          "model_module_version": "1.2.0",
          "state": {
            "_model_module": "@jupyter-widgets/base",
            "_model_module_version": "1.2.0",
            "_model_name": "LayoutModel",
            "_view_count": null,
            "_view_module": "@jupyter-widgets/base",
            "_view_module_version": "1.2.0",
            "_view_name": "LayoutView",
            "align_content": null,
            "align_items": "center",
            "align_self": null,
            "border": null,
            "bottom": null,
            "display": "flex",
            "flex": null,
            "flex_flow": "column",
            "grid_area": null,
            "grid_auto_columns": null,
            "grid_auto_flow": null,
            "grid_auto_rows": null,
            "grid_column": null,
            "grid_gap": null,
            "grid_row": null,
            "grid_template_areas": null,
            "grid_template_columns": null,
            "grid_template_rows": null,
            "height": null,
            "justify_content": null,
            "justify_items": null,
            "left": null,
            "margin": null,
            "max_height": null,
            "max_width": null,
            "min_height": null,
            "min_width": null,
            "object_fit": null,
            "object_position": null,
            "order": null,
            "overflow": null,
            "overflow_x": null,
            "overflow_y": null,
            "padding": null,
            "right": null,
            "top": null,
            "visibility": null,
            "width": "50%"
          }
        },
        "01d9c91143be48d3b7fdb522771fbb64": {
          "model_module": "@jupyter-widgets/base",
          "model_name": "LayoutModel",
          "model_module_version": "1.2.0",
          "state": {
            "_model_module": "@jupyter-widgets/base",
            "_model_module_version": "1.2.0",
            "_model_name": "LayoutModel",
            "_view_count": null,
            "_view_module": "@jupyter-widgets/base",
            "_view_module_version": "1.2.0",
            "_view_name": "LayoutView",
            "align_content": null,
            "align_items": null,
            "align_self": null,
            "border": null,
            "bottom": null,
            "display": null,
            "flex": null,
            "flex_flow": null,
            "grid_area": null,
            "grid_auto_columns": null,
            "grid_auto_flow": null,
            "grid_auto_rows": null,
            "grid_column": null,
            "grid_gap": null,
            "grid_row": null,
            "grid_template_areas": null,
            "grid_template_columns": null,
            "grid_template_rows": null,
            "height": null,
            "justify_content": null,
            "justify_items": null,
            "left": null,
            "margin": null,
            "max_height": null,
            "max_width": null,
            "min_height": null,
            "min_width": null,
            "object_fit": null,
            "object_position": null,
            "order": null,
            "overflow": null,
            "overflow_x": null,
            "overflow_y": null,
            "padding": null,
            "right": null,
            "top": null,
            "visibility": null,
            "width": null
          }
        },
        "afd73d7498094469a722940498ff57c5": {
          "model_module": "@jupyter-widgets/controls",
          "model_name": "DescriptionStyleModel",
          "model_module_version": "1.5.0",
          "state": {
            "_model_module": "@jupyter-widgets/controls",
            "_model_module_version": "1.5.0",
            "_model_name": "DescriptionStyleModel",
            "_view_count": null,
            "_view_module": "@jupyter-widgets/base",
            "_view_module_version": "1.2.0",
            "_view_name": "StyleView",
            "description_width": ""
          }
        },
        "2e8d4348418f49c386f37e58c0e809fc": {
          "model_module": "@jupyter-widgets/base",
          "model_name": "LayoutModel",
          "model_module_version": "1.2.0",
          "state": {
            "_model_module": "@jupyter-widgets/base",
            "_model_module_version": "1.2.0",
            "_model_name": "LayoutModel",
            "_view_count": null,
            "_view_module": "@jupyter-widgets/base",
            "_view_module_version": "1.2.0",
            "_view_name": "LayoutView",
            "align_content": null,
            "align_items": null,
            "align_self": null,
            "border": null,
            "bottom": null,
            "display": null,
            "flex": null,
            "flex_flow": null,
            "grid_area": null,
            "grid_auto_columns": null,
            "grid_auto_flow": null,
            "grid_auto_rows": null,
            "grid_column": null,
            "grid_gap": null,
            "grid_row": null,
            "grid_template_areas": null,
            "grid_template_columns": null,
            "grid_template_rows": null,
            "height": null,
            "justify_content": null,
            "justify_items": null,
            "left": null,
            "margin": null,
            "max_height": null,
            "max_width": null,
            "min_height": null,
            "min_width": null,
            "object_fit": null,
            "object_position": null,
            "order": null,
            "overflow": null,
            "overflow_x": null,
            "overflow_y": null,
            "padding": null,
            "right": null,
            "top": null,
            "visibility": null,
            "width": null
          }
        },
        "501428862bd64020a975c1b0b092d07b": {
          "model_module": "@jupyter-widgets/controls",
          "model_name": "DescriptionStyleModel",
          "model_module_version": "1.5.0",
          "state": {
            "_model_module": "@jupyter-widgets/controls",
            "_model_module_version": "1.5.0",
            "_model_name": "DescriptionStyleModel",
            "_view_count": null,
            "_view_module": "@jupyter-widgets/base",
            "_view_module_version": "1.2.0",
            "_view_name": "StyleView",
            "description_width": ""
          }
        },
        "18894ce90f1243cab5490c89a09ceda3": {
          "model_module": "@jupyter-widgets/base",
          "model_name": "LayoutModel",
          "model_module_version": "1.2.0",
          "state": {
            "_model_module": "@jupyter-widgets/base",
            "_model_module_version": "1.2.0",
            "_model_name": "LayoutModel",
            "_view_count": null,
            "_view_module": "@jupyter-widgets/base",
            "_view_module_version": "1.2.0",
            "_view_name": "LayoutView",
            "align_content": null,
            "align_items": null,
            "align_self": null,
            "border": null,
            "bottom": null,
            "display": null,
            "flex": null,
            "flex_flow": null,
            "grid_area": null,
            "grid_auto_columns": null,
            "grid_auto_flow": null,
            "grid_auto_rows": null,
            "grid_column": null,
            "grid_gap": null,
            "grid_row": null,
            "grid_template_areas": null,
            "grid_template_columns": null,
            "grid_template_rows": null,
            "height": null,
            "justify_content": null,
            "justify_items": null,
            "left": null,
            "margin": null,
            "max_height": null,
            "max_width": null,
            "min_height": null,
            "min_width": null,
            "object_fit": null,
            "object_position": null,
            "order": null,
            "overflow": null,
            "overflow_x": null,
            "overflow_y": null,
            "padding": null,
            "right": null,
            "top": null,
            "visibility": null,
            "width": null
          }
        },
        "3c7cac34a85d4ba498b67a669bfb7a83": {
          "model_module": "@jupyter-widgets/controls",
          "model_name": "DescriptionStyleModel",
          "model_module_version": "1.5.0",
          "state": {
            "_model_module": "@jupyter-widgets/controls",
            "_model_module_version": "1.5.0",
            "_model_name": "DescriptionStyleModel",
            "_view_count": null,
            "_view_module": "@jupyter-widgets/base",
            "_view_module_version": "1.2.0",
            "_view_name": "StyleView",
            "description_width": ""
          }
        },
        "5b653deb9e7447b99d7e253600301c5a": {
          "model_module": "@jupyter-widgets/base",
          "model_name": "LayoutModel",
          "model_module_version": "1.2.0",
          "state": {
            "_model_module": "@jupyter-widgets/base",
            "_model_module_version": "1.2.0",
            "_model_name": "LayoutModel",
            "_view_count": null,
            "_view_module": "@jupyter-widgets/base",
            "_view_module_version": "1.2.0",
            "_view_name": "LayoutView",
            "align_content": null,
            "align_items": null,
            "align_self": null,
            "border": null,
            "bottom": null,
            "display": null,
            "flex": null,
            "flex_flow": null,
            "grid_area": null,
            "grid_auto_columns": null,
            "grid_auto_flow": null,
            "grid_auto_rows": null,
            "grid_column": null,
            "grid_gap": null,
            "grid_row": null,
            "grid_template_areas": null,
            "grid_template_columns": null,
            "grid_template_rows": null,
            "height": null,
            "justify_content": null,
            "justify_items": null,
            "left": null,
            "margin": null,
            "max_height": null,
            "max_width": null,
            "min_height": null,
            "min_width": null,
            "object_fit": null,
            "object_position": null,
            "order": null,
            "overflow": null,
            "overflow_x": null,
            "overflow_y": null,
            "padding": null,
            "right": null,
            "top": null,
            "visibility": null,
            "width": null
          }
        },
        "1ab77ccf8b0943b8b8d6b3a8a852c78a": {
          "model_module": "@jupyter-widgets/controls",
          "model_name": "ButtonStyleModel",
          "model_module_version": "1.5.0",
          "state": {
            "_model_module": "@jupyter-widgets/controls",
            "_model_module_version": "1.5.0",
            "_model_name": "ButtonStyleModel",
            "_view_count": null,
            "_view_module": "@jupyter-widgets/base",
            "_view_module_version": "1.2.0",
            "_view_name": "StyleView",
            "button_color": null,
            "font_weight": ""
          }
        },
        "50b95aecf453410489e9d7ff1411fe96": {
          "model_module": "@jupyter-widgets/base",
          "model_name": "LayoutModel",
          "model_module_version": "1.2.0",
          "state": {
            "_model_module": "@jupyter-widgets/base",
            "_model_module_version": "1.2.0",
            "_model_name": "LayoutModel",
            "_view_count": null,
            "_view_module": "@jupyter-widgets/base",
            "_view_module_version": "1.2.0",
            "_view_name": "LayoutView",
            "align_content": null,
            "align_items": null,
            "align_self": null,
            "border": null,
            "bottom": null,
            "display": null,
            "flex": null,
            "flex_flow": null,
            "grid_area": null,
            "grid_auto_columns": null,
            "grid_auto_flow": null,
            "grid_auto_rows": null,
            "grid_column": null,
            "grid_gap": null,
            "grid_row": null,
            "grid_template_areas": null,
            "grid_template_columns": null,
            "grid_template_rows": null,
            "height": null,
            "justify_content": null,
            "justify_items": null,
            "left": null,
            "margin": null,
            "max_height": null,
            "max_width": null,
            "min_height": null,
            "min_width": null,
            "object_fit": null,
            "object_position": null,
            "order": null,
            "overflow": null,
            "overflow_x": null,
            "overflow_y": null,
            "padding": null,
            "right": null,
            "top": null,
            "visibility": null,
            "width": null
          }
        },
        "6cbef5f40b1b4369b384813428372ae5": {
          "model_module": "@jupyter-widgets/controls",
          "model_name": "DescriptionStyleModel",
          "model_module_version": "1.5.0",
          "state": {
            "_model_module": "@jupyter-widgets/controls",
            "_model_module_version": "1.5.0",
            "_model_name": "DescriptionStyleModel",
            "_view_count": null,
            "_view_module": "@jupyter-widgets/base",
            "_view_module_version": "1.2.0",
            "_view_name": "StyleView",
            "description_width": ""
          }
        },
        "45f2e4da72344963a1ae12e89dc2cd72": {
          "model_module": "@jupyter-widgets/controls",
          "model_name": "LabelModel",
          "model_module_version": "1.5.0",
          "state": {
            "_dom_classes": [],
            "_model_module": "@jupyter-widgets/controls",
            "_model_module_version": "1.5.0",
            "_model_name": "LabelModel",
            "_view_count": null,
            "_view_module": "@jupyter-widgets/controls",
            "_view_module_version": "1.5.0",
            "_view_name": "LabelView",
            "description": "",
            "description_tooltip": null,
            "layout": "IPY_MODEL_44786e68c7b84771a0e647b0c1b6c8a8",
            "placeholder": "​",
            "style": "IPY_MODEL_3362e8e0c88a4be38cd8fa8f541ee2be",
            "value": "Connecting..."
          }
        },
        "44786e68c7b84771a0e647b0c1b6c8a8": {
          "model_module": "@jupyter-widgets/base",
          "model_name": "LayoutModel",
          "model_module_version": "1.2.0",
          "state": {
            "_model_module": "@jupyter-widgets/base",
            "_model_module_version": "1.2.0",
            "_model_name": "LayoutModel",
            "_view_count": null,
            "_view_module": "@jupyter-widgets/base",
            "_view_module_version": "1.2.0",
            "_view_name": "LayoutView",
            "align_content": null,
            "align_items": null,
            "align_self": null,
            "border": null,
            "bottom": null,
            "display": null,
            "flex": null,
            "flex_flow": null,
            "grid_area": null,
            "grid_auto_columns": null,
            "grid_auto_flow": null,
            "grid_auto_rows": null,
            "grid_column": null,
            "grid_gap": null,
            "grid_row": null,
            "grid_template_areas": null,
            "grid_template_columns": null,
            "grid_template_rows": null,
            "height": null,
            "justify_content": null,
            "justify_items": null,
            "left": null,
            "margin": null,
            "max_height": null,
            "max_width": null,
            "min_height": null,
            "min_width": null,
            "object_fit": null,
            "object_position": null,
            "order": null,
            "overflow": null,
            "overflow_x": null,
            "overflow_y": null,
            "padding": null,
            "right": null,
            "top": null,
            "visibility": null,
            "width": null
          }
        },
        "3362e8e0c88a4be38cd8fa8f541ee2be": {
          "model_module": "@jupyter-widgets/controls",
          "model_name": "DescriptionStyleModel",
          "model_module_version": "1.5.0",
          "state": {
            "_model_module": "@jupyter-widgets/controls",
            "_model_module_version": "1.5.0",
            "_model_name": "DescriptionStyleModel",
            "_view_count": null,
            "_view_module": "@jupyter-widgets/base",
            "_view_module_version": "1.2.0",
            "_view_name": "StyleView",
            "description_width": ""
          }
        }
      }
    },
    "accelerator": "GPU"
  },
  "cells": [
    {
      "cell_type": "markdown",
      "source": [
        "#**VISUALIZATION HATE SPEECH DATASET**"
      ],
      "metadata": {
        "id": "jGxrzYO5qzZz"
      }
    },
    {
      "cell_type": "markdown",
      "source": [
        "The dataset is uploaded directly from a HuggingFace directory. The link below  \n",
        "shows the link to the\n",
        "https://huggingface.co/datasets/manueltonneau/spanish-hate-speech-superset\n",
        "\n",
        "This dataset is a binary classification dataset that contains Spanish-language social media posts labeled for hate speech. Each instance is categorized as either:\n",
        "\n",
        "0.00 → Non-hate speech\n",
        "\n",
        "1.00 → Hate speech\n"
      ],
      "metadata": {
        "id": "3M9ZnN4t9MuO"
      }
    },
    {
      "cell_type": "markdown",
      "source": [
        "# Load dataset for dataframe"
      ],
      "metadata": {
        "id": "hAmslwA5TSJK"
      }
    },
    {
      "cell_type": "markdown",
      "source": [
        "Download HuggingFace dataset directly from the Internet"
      ],
      "metadata": {
        "id": "8El99V1NgQj6"
      }
    },
    {
      "cell_type": "code",
      "source": [
        "from huggingface_hub import login\n",
        "import os\n",
        "\n",
        "def login_huggingface(token):\n",
        "    #log in to Hugging Face using the token\n",
        "    login(token)\n",
        "    print(\"Logged in successfully!\")\n",
        "\n",
        "if __name__ == \"__main__\":\n",
        "    token = os.getenv(\"HF_TOKEN\")\n",
        "    login_huggingface(token)\n"
      ],
      "metadata": {
        "id": "LMzOzH5Ue2Kr",
        "outputId": "a264427b-8639-412d-f9da-c48e78257d11",
        "colab": {
          "base_uri": "https://localhost:8080/",
          "height": 34,
          "referenced_widgets": [
            "ba3e6ac0e2cb4e7881230ed4a6f8be9f",
            "2bcf2e7e1da546aeb916b891eb2f5be6",
            "26d28ec8cfc9492ea1d41ca22b134fec",
            "c4e63673cd9741e6a68af42928a911e4",
            "bf4ac5e41bfa489fbb8f273ca9254ec0",
            "13a60f395a644a07aa58894de6ed7766",
            "e43e8262f3954e888519992d84e7b064",
            "01d9c91143be48d3b7fdb522771fbb64",
            "afd73d7498094469a722940498ff57c5",
            "2e8d4348418f49c386f37e58c0e809fc",
            "501428862bd64020a975c1b0b092d07b",
            "18894ce90f1243cab5490c89a09ceda3",
            "3c7cac34a85d4ba498b67a669bfb7a83",
            "5b653deb9e7447b99d7e253600301c5a",
            "1ab77ccf8b0943b8b8d6b3a8a852c78a",
            "50b95aecf453410489e9d7ff1411fe96",
            "6cbef5f40b1b4369b384813428372ae5",
            "45f2e4da72344963a1ae12e89dc2cd72",
            "44786e68c7b84771a0e647b0c1b6c8a8",
            "3362e8e0c88a4be38cd8fa8f541ee2be"
          ]
        }
      },
      "execution_count": null,
      "outputs": [
        {
          "output_type": "display_data",
          "data": {
            "text/plain": [
              "VBox(children=(HTML(value='<center> <img\\nsrc=https://huggingface.co/front/assets/huggingface_logo-noborder.sv…"
            ],
            "application/vnd.jupyter.widget-view+json": {
              "version_major": 2,
              "version_minor": 0,
              "model_id": "ba3e6ac0e2cb4e7881230ed4a6f8be9f"
            }
          },
          "metadata": {}
        },
        {
          "output_type": "stream",
          "name": "stdout",
          "text": [
            "Logged in successfully!\n"
          ]
        }
      ]
    },
    {
      "cell_type": "code",
      "source": [
        "import pandas as pd\n",
        "\n",
        "df = pd.read_csv(\"hf://datasets/manueltonneau/spanish-hate-speech-superset/es_hf_102024.csv\")"
      ],
      "metadata": {
        "id": "FMhmNJbE8B61"
      },
      "execution_count": null,
      "outputs": []
    },
    {
      "cell_type": "code",
      "source": [
        "print(df.columns)"
      ],
      "metadata": {
        "colab": {
          "base_uri": "https://localhost:8080/"
        },
        "id": "sPRtjIi-8-e-",
        "outputId": "2e49f218-bfa7-4ab3-a279-f7c17d010f05"
      },
      "execution_count": null,
      "outputs": [
        {
          "output_type": "stream",
          "name": "stdout",
          "text": [
            "Index(['text', 'labels', 'source', 'dataset', 'nb_annotators', 'tweet_id',\n",
            "       'post_author_country_location'],\n",
            "      dtype='object')\n"
          ]
        }
      ]
    },
    {
      "cell_type": "markdown",
      "source": [
        "Checking the dataset"
      ],
      "metadata": {
        "id": "H8ejdPU8gZQC"
      }
    },
    {
      "cell_type": "code",
      "source": [
        "print(df.head)"
      ],
      "metadata": {
        "colab": {
          "base_uri": "https://localhost:8080/"
        },
        "id": "N0OzgVAV9Dh5",
        "outputId": "e4867a4e-8431-41c9-cd9a-9c73286678f0"
      },
      "execution_count": null,
      "outputs": [
        {
          "output_type": "stream",
          "name": "stdout",
          "text": [
            "<bound method NDFrame.head of                                                     text  labels   source  \\\n",
            "0      Eran tan pero tan feministas que invisibilizab...     0.0  Twitter   \n",
            "1      @USER @USER @USER Me carga en lo q se convirti...     0.0  Twitter   \n",
            "2      , ¿Sabrán las femiorcas como @USER y todo el f...     1.0  Twitter   \n",
            "3      @USER @USER @USER @USER Una vecina que nada te...     0.0  Twitter   \n",
            "4       @USER Debajo de que piedra estaba ese flaiterio?     0.0  Twitter   \n",
            "...                                                  ...     ...      ...   \n",
            "29850  Un debate interesante ¿las mujeres occidentale...     0.0  Twitter   \n",
            "29851  @USER @USER De todo esto y leyendo las respues...     0.0  Twitter   \n",
            "29852  @USER @USER la reina respeta la religión musul...     0.0  Twitter   \n",
            "29853  \"Las decisiones económicas son exclusivas del ...     0.0  Twitter   \n",
            "29854             @USER y pq te consideras de gibraltar?     0.0  Twitter   \n",
            "\n",
            "        dataset  nb_annotators      tweet_id post_author_country_location  \n",
            "0       chileno              3  1.401281e+18                      unknown  \n",
            "1       chileno              3  1.402708e+18                        Chile  \n",
            "2       chileno              3  1.402623e+18                      unknown  \n",
            "3       chileno              3  1.402472e+18                        Chile  \n",
            "4       chileno              3  1.401715e+18                      unknown  \n",
            "...         ...            ...           ...                          ...  \n",
            "29850  hascosva              3           NaN                      unknown  \n",
            "29851  hascosva              3           NaN                      unknown  \n",
            "29852  hascosva              3           NaN                      unknown  \n",
            "29853  hascosva              3           NaN                      unknown  \n",
            "29854  hascosva              3           NaN                      unknown  \n",
            "\n",
            "[29855 rows x 7 columns]>\n"
          ]
        }
      ]
    },
    {
      "cell_type": "markdown",
      "source": [
        "Remove unnecessary columns and keep the columns \"text\" and \"labels\", as the main information is in these two columns."
      ],
      "metadata": {
        "id": "AEnYRcDVgblU"
      }
    },
    {
      "cell_type": "code",
      "source": [
        "columns_to_drop = ['source', 'nb_annotators', 'tweet_id', 'post_author_country_location', 'dataset']\n",
        "df = df.drop(columns=columns_to_drop)\n",
        "\n",
        "print(df.head(20))\n"
      ],
      "metadata": {
        "colab": {
          "base_uri": "https://localhost:8080/"
        },
        "id": "FjNlHduZulB6",
        "outputId": "1f6d9014-986a-4c23-8adc-97cf0bae8eb2"
      },
      "execution_count": null,
      "outputs": [
        {
          "output_type": "stream",
          "name": "stdout",
          "text": [
            "                                                 text  labels\n",
            "0   Eran tan pero tan feministas que invisibilizab...     0.0\n",
            "1   @USER @USER @USER Me carga en lo q se convirti...     0.0\n",
            "2   , ¿Sabrán las femiorcas como @USER y todo el f...     1.0\n",
            "3   @USER @USER @USER @USER Una vecina que nada te...     0.0\n",
            "4    @USER Debajo de que piedra estaba ese flaiterio?     0.0\n",
            "5   @USER Esto lo vengo diciendo desde el voto obl...     0.0\n",
            "6   Que un militar te diga:\"amigo mejor entre la b...     0.0\n",
            "7   @USER Por esto lados muchos flaites de pelo pi...     0.0\n",
            "8   @USER Haber, pensando en la cantidad de flaite...     0.0\n",
            "9   @USER @USER @USER @USER Entiendo. Haces refere...     0.0\n",
            "10  @USER @USER Jueron loh pacohhh..típica frase d...     0.0\n",
            "11  @USER @USER FUERA LOS FLAITES !!!\\nFUERA LOS 3...     0.0\n",
            "12  @USER Todos los flaites pueden quedarse en su ...     0.0\n",
            "13                  @USER Pero alla no tienen flaites     0.0\n",
            "14  @USER No será musho? No se trata de “rotos” cr...     0.0\n",
            "15  Los descriteriados de la plaza ñuñoa son igual...     0.0\n",
            "16  @USER Csm 🤣🤣🤣🤣,y los flaites no entenderán nad...     0.0\n",
            "17  @USER @USER 😂😂😂😂 espero que la institución que...     0.0\n",
            "18  @USER Se está iluminando, esto es resultado de...     0.0\n",
            "19  Las dos cagadas de la cabeza, ordinarias, pica...     0.0\n"
          ]
        }
      ]
    },
    {
      "cell_type": "markdown",
      "source": [
        "Check shape of our current dataset"
      ],
      "metadata": {
        "id": "gpzgoMMqgoFy"
      }
    },
    {
      "cell_type": "code",
      "source": [
        "print(df.shape)"
      ],
      "metadata": {
        "colab": {
          "base_uri": "https://localhost:8080/"
        },
        "id": "_RUr60HiuzMy",
        "outputId": "c5ba9eb8-894a-4d72-a99e-c96666c1f676"
      },
      "execution_count": null,
      "outputs": [
        {
          "output_type": "stream",
          "name": "stdout",
          "text": [
            "(29855, 2)\n"
          ]
        }
      ]
    },
    {
      "cell_type": "markdown",
      "source": [
        "Mount Google Drive content"
      ],
      "metadata": {
        "id": "_0UxAxyqgqki"
      }
    },
    {
      "cell_type": "code",
      "source": [
        "from google.colab import drive\n",
        "drive.mount('/content/drive')"
      ],
      "metadata": {
        "colab": {
          "base_uri": "https://localhost:8080/"
        },
        "id": "PhzHpYILwegV",
        "outputId": "665cae39-8784-4180-907e-5bcf8a5d7408"
      },
      "execution_count": null,
      "outputs": [
        {
          "output_type": "stream",
          "name": "stdout",
          "text": [
            "Mounted at /content/drive\n"
          ]
        }
      ]
    },
    {
      "cell_type": "markdown",
      "source": [
        "Save the dataset in a CSV file"
      ],
      "metadata": {
        "id": "HNDXzfUZguCC"
      }
    },
    {
      "cell_type": "code",
      "source": [
        "save_path = \"/content/drive/MyDrive/Colab Notebooks/FinalProjectApps/dataset/hatespeech_dataset.csv\"\n",
        "\n",
        "df.to_csv(save_path, index=False)\n",
        "\n",
        "print(f\"Dataset saved to: {save_path}\")\n"
      ],
      "metadata": {
        "colab": {
          "base_uri": "https://localhost:8080/"
        },
        "id": "0IEVgc8qwkFY",
        "outputId": "a6f1cdea-0384-4fff-ab16-baeab17bdcd9"
      },
      "execution_count": null,
      "outputs": [
        {
          "output_type": "stream",
          "name": "stdout",
          "text": [
            "Dataset saved to: /content/drive/MyDrive/Colab Notebooks/FinalProjectApps/dataset/hatespeech_dataset.csv\n"
          ]
        }
      ]
    },
    {
      "cell_type": "code",
      "source": [
        "import re\n",
        "import nltk\n",
        "nltk.download('stopwords')\n",
        "\n",
        "import re\n",
        "import nltk\n",
        "from nltk.corpus import stopwords\n",
        "\n",
        "nltk.download('stopwords')\n",
        "\n",
        "spanish_stopwords = set(stopwords.words('spanish'))\n",
        "\n",
        "def cleanup(tweet):\n",
        "    \"\"\"\n",
        "    Remove URLs, hashtags, mentions, emojis, and replaces newlines and tabulations with spaces.\n",
        "    Converts the text to lowercase and removes Spanish stopwords.\n",
        "\n",
        "    :param tweet: Text string representing a tweet.\n",
        "    :return: Cleaned tweet as a text string.\n",
        "    \"\"\"\n",
        "    #Remove URLs\n",
        "    tweet = re.sub(r\"http\\S+\", \"\", tweet)\n",
        "\n",
        "    #Remove hashtags and mentions\n",
        "    tweet = tweet.replace(\"#\", \"\").replace(\"@\", \"\")\n",
        "\n",
        "    #Remove non-ASCII characters (like emojis)\n",
        "    tweet = re.sub(r'[^\\x00-\\x7F]+', '', tweet)\n",
        "\n",
        "    #Replace newlines and tabulations with spaces\n",
        "    tweet = tweet.replace('\\n', ' ').replace('\\t', ' ')\n",
        "\n",
        "    #Convert to lowercase\n",
        "    tweet = tweet.lower()\n",
        "\n",
        "    #Remove Spanish stopwords\n",
        "    tweet_words = tweet.split()  # Split the tweet into words\n",
        "    tweet_words = [word for word in tweet_words if word not in spanish_stopwords]  # Remove stopwords\n",
        "\n",
        "    #Rejoin words back into a cleaned tweet\n",
        "    tweet = ' '.join(tweet_words)\n",
        "\n",
        "    return tweet\n",
        "\n",
        "# Apply the cleanup function to your DataFrame\n",
        "df['text'] = df['text'].apply(cleanup)\n",
        "\n",
        "print(df.head(20))"
      ],
      "metadata": {
        "colab": {
          "base_uri": "https://localhost:8080/"
        },
        "id": "IjzRdyq9xAtm",
        "outputId": "fe4caa3c-50ad-4519-ab37-c5762de97892"
      },
      "execution_count": null,
      "outputs": [
        {
          "output_type": "stream",
          "name": "stderr",
          "text": [
            "[nltk_data] Downloading package stopwords to /root/nltk_data...\n",
            "[nltk_data]   Unzipping corpora/stopwords.zip.\n",
            "[nltk_data] Downloading package stopwords to /root/nltk_data...\n",
            "[nltk_data]   Package stopwords is already up-to-date!\n"
          ]
        },
        {
          "output_type": "stream",
          "name": "stdout",
          "text": [
            "                                                 text  labels\n",
            "0   tan tan feministas invisibilizaban constanteme...     0.0\n",
            "1   user user user carga q convirti 2da vuelta gob...     0.0\n",
            "2   , sabrn femiorcas user flaiterio mapuchento , ...     1.0\n",
            "3   user user user user vecina tenia ver flaiterio...     0.0\n",
            "4                       user debajo piedra flaiterio?     0.0\n",
            "5   user vengo diciendo voto obligado piera. dejem...     0.0\n",
            "6   militar diga:\"amigo mejor bicicleta pase votar...     0.0\n",
            "7                     user lados flaites pelo pintado     0.0\n",
            "8   user haber, pensando cantidad flaites ignorant...     0.0\n",
            "9   user user user user entiendo. haces referencia...     0.0\n",
            "10  user user jueron loh pacohhh..tpica frase loa ...     0.0\n",
            "11     user user flaites !!! 34 macabros mapocho link     0.0\n",
            "12  user flaites pueden quedarse casa sacandose mo...     0.0\n",
            "13                                  user alla flaites     0.0\n",
            "14  user ser musho? trata rotos creo yo. trata fla...     0.0\n",
            "15  descriteriados plaza uoa igual descriteriados ...     0.0\n",
            "16           user csm ,y flaites entendern nada, jaja     0.0\n",
            "17  user user espero institucin venga mas dura fla...     0.0\n",
            "18  user est iluminando, resultado populismo barat...     0.0\n",
            "19  dos cagadas cabeza, ordinarias, picantes, flai...     0.0\n"
          ]
        }
      ]
    },
    {
      "cell_type": "markdown",
      "source": [
        "After cleaning, remove those columns with NaN information"
      ],
      "metadata": {
        "id": "xTXbhw5Og7A6"
      }
    },
    {
      "cell_type": "code",
      "source": [
        "df = df.dropna()"
      ],
      "metadata": {
        "id": "Oi5OhD-G5FDN"
      },
      "execution_count": null,
      "outputs": []
    },
    {
      "cell_type": "markdown",
      "source": [
        "Save the cleaned dataset in another CSV file"
      ],
      "metadata": {
        "id": "K5zIF66YhAgK"
      }
    },
    {
      "cell_type": "code",
      "source": [
        "# Save the cleaned DataFrame to a CSV file\n",
        "df.to_csv('/content/drive/MyDrive/Colab Notebooks/FinalProjectApps/dataset/hatespeech_cleaned.csv', index=False)"
      ],
      "metadata": {
        "id": "fxMBGaq65HSY"
      },
      "execution_count": null,
      "outputs": []
    },
    {
      "cell_type": "code",
      "source": [
        "import pandas as pd\n",
        "from sklearn.model_selection import train_test_split\n",
        "\n",
        "df = pd.read_csv('/content/drive/MyDrive/Colab Notebooks/FinalProjectApps/dataset/hatespeech_cleaned.csv')\n"
      ],
      "metadata": {
        "id": "0cWToXXO7TKj"
      },
      "execution_count": null,
      "outputs": []
    },
    {
      "cell_type": "code",
      "source": [
        "!pip install scattertext"
      ],
      "metadata": {
        "colab": {
          "base_uri": "https://localhost:8080/"
        },
        "id": "cG2yZE_dQV_v",
        "outputId": "d6a06ef6-152b-42ef-98b0-6b5612a0740c"
      },
      "execution_count": null,
      "outputs": [
        {
          "output_type": "stream",
          "name": "stdout",
          "text": [
            "Collecting scattertext\n",
            "  Downloading scattertext-0.2.2-py3-none-any.whl.metadata (581 bytes)\n",
            "Requirement already satisfied: numpy>=1.2.6 in /usr/local/lib/python3.11/dist-packages (from scattertext) (2.0.2)\n",
            "Collecting scipy<1.14.0,>=1.7.0 (from scattertext)\n",
            "  Downloading scipy-1.13.1-cp311-cp311-manylinux_2_17_x86_64.manylinux2014_x86_64.whl.metadata (60 kB)\n",
            "\u001b[2K     \u001b[90m━━━━━━━━━━━━━━━━━━━━━━━━━━━━━━━━━━━━━━━━\u001b[0m \u001b[32m60.6/60.6 kB\u001b[0m \u001b[31m4.5 MB/s\u001b[0m eta \u001b[36m0:00:00\u001b[0m\n",
            "\u001b[?25hRequirement already satisfied: scikit-learn>=1.4 in /usr/local/lib/python3.11/dist-packages (from scattertext) (1.6.1)\n",
            "Requirement already satisfied: pandas>=2.0.0 in /usr/local/lib/python3.11/dist-packages (from scattertext) (2.2.2)\n",
            "Requirement already satisfied: statsmodels>=0.14.1 in /usr/local/lib/python3.11/dist-packages (from scattertext) (0.14.4)\n",
            "Collecting flashtext>=2.7 (from scattertext)\n",
            "  Downloading flashtext-2.7.tar.gz (14 kB)\n",
            "  Preparing metadata (setup.py) ... \u001b[?25l\u001b[?25hdone\n",
            "Collecting gensim>=4.0.0 (from scattertext)\n",
            "  Downloading gensim-4.3.3-cp311-cp311-manylinux_2_17_x86_64.manylinux2014_x86_64.whl.metadata (8.1 kB)\n",
            "Requirement already satisfied: spacy>=3.2 in /usr/local/lib/python3.11/dist-packages (from scattertext) (3.8.5)\n",
            "Requirement already satisfied: tqdm>=4.0 in /usr/local/lib/python3.11/dist-packages (from scattertext) (4.67.1)\n",
            "Collecting numpy>=1.2.6 (from scattertext)\n",
            "  Downloading numpy-1.26.4-cp311-cp311-manylinux_2_17_x86_64.manylinux2014_x86_64.whl.metadata (61 kB)\n",
            "\u001b[2K     \u001b[90m━━━━━━━━━━━━━━━━━━━━━━━━━━━━━━━━━━━━━━━━\u001b[0m \u001b[32m61.0/61.0 kB\u001b[0m \u001b[31m5.2 MB/s\u001b[0m eta \u001b[36m0:00:00\u001b[0m\n",
            "\u001b[?25hRequirement already satisfied: smart-open>=1.8.1 in /usr/local/lib/python3.11/dist-packages (from gensim>=4.0.0->scattertext) (7.1.0)\n",
            "Requirement already satisfied: python-dateutil>=2.8.2 in /usr/local/lib/python3.11/dist-packages (from pandas>=2.0.0->scattertext) (2.8.2)\n",
            "Requirement already satisfied: pytz>=2020.1 in /usr/local/lib/python3.11/dist-packages (from pandas>=2.0.0->scattertext) (2025.2)\n",
            "Requirement already satisfied: tzdata>=2022.7 in /usr/local/lib/python3.11/dist-packages (from pandas>=2.0.0->scattertext) (2025.2)\n",
            "Requirement already satisfied: joblib>=1.2.0 in /usr/local/lib/python3.11/dist-packages (from scikit-learn>=1.4->scattertext) (1.4.2)\n",
            "Requirement already satisfied: threadpoolctl>=3.1.0 in /usr/local/lib/python3.11/dist-packages (from scikit-learn>=1.4->scattertext) (3.6.0)\n",
            "Requirement already satisfied: spacy-legacy<3.1.0,>=3.0.11 in /usr/local/lib/python3.11/dist-packages (from spacy>=3.2->scattertext) (3.0.12)\n",
            "Requirement already satisfied: spacy-loggers<2.0.0,>=1.0.0 in /usr/local/lib/python3.11/dist-packages (from spacy>=3.2->scattertext) (1.0.5)\n",
            "Requirement already satisfied: murmurhash<1.1.0,>=0.28.0 in /usr/local/lib/python3.11/dist-packages (from spacy>=3.2->scattertext) (1.0.12)\n",
            "Requirement already satisfied: cymem<2.1.0,>=2.0.2 in /usr/local/lib/python3.11/dist-packages (from spacy>=3.2->scattertext) (2.0.11)\n",
            "Requirement already satisfied: preshed<3.1.0,>=3.0.2 in /usr/local/lib/python3.11/dist-packages (from spacy>=3.2->scattertext) (3.0.9)\n",
            "Requirement already satisfied: thinc<8.4.0,>=8.3.4 in /usr/local/lib/python3.11/dist-packages (from spacy>=3.2->scattertext) (8.3.4)\n",
            "Requirement already satisfied: wasabi<1.2.0,>=0.9.1 in /usr/local/lib/python3.11/dist-packages (from spacy>=3.2->scattertext) (1.1.3)\n",
            "Requirement already satisfied: srsly<3.0.0,>=2.4.3 in /usr/local/lib/python3.11/dist-packages (from spacy>=3.2->scattertext) (2.5.1)\n",
            "Requirement already satisfied: catalogue<2.1.0,>=2.0.6 in /usr/local/lib/python3.11/dist-packages (from spacy>=3.2->scattertext) (2.0.10)\n",
            "Requirement already satisfied: weasel<0.5.0,>=0.1.0 in /usr/local/lib/python3.11/dist-packages (from spacy>=3.2->scattertext) (0.4.1)\n",
            "Requirement already satisfied: typer<1.0.0,>=0.3.0 in /usr/local/lib/python3.11/dist-packages (from spacy>=3.2->scattertext) (0.15.2)\n",
            "Requirement already satisfied: requests<3.0.0,>=2.13.0 in /usr/local/lib/python3.11/dist-packages (from spacy>=3.2->scattertext) (2.32.3)\n",
            "Requirement already satisfied: pydantic!=1.8,!=1.8.1,<3.0.0,>=1.7.4 in /usr/local/lib/python3.11/dist-packages (from spacy>=3.2->scattertext) (2.11.2)\n",
            "Requirement already satisfied: jinja2 in /usr/local/lib/python3.11/dist-packages (from spacy>=3.2->scattertext) (3.1.6)\n",
            "Requirement already satisfied: setuptools in /usr/local/lib/python3.11/dist-packages (from spacy>=3.2->scattertext) (75.2.0)\n",
            "Requirement already satisfied: packaging>=20.0 in /usr/local/lib/python3.11/dist-packages (from spacy>=3.2->scattertext) (24.2)\n",
            "Requirement already satisfied: langcodes<4.0.0,>=3.2.0 in /usr/local/lib/python3.11/dist-packages (from spacy>=3.2->scattertext) (3.5.0)\n",
            "Requirement already satisfied: patsy>=0.5.6 in /usr/local/lib/python3.11/dist-packages (from statsmodels>=0.14.1->scattertext) (1.0.1)\n",
            "Requirement already satisfied: language-data>=1.2 in /usr/local/lib/python3.11/dist-packages (from langcodes<4.0.0,>=3.2.0->spacy>=3.2->scattertext) (1.3.0)\n",
            "Requirement already satisfied: annotated-types>=0.6.0 in /usr/local/lib/python3.11/dist-packages (from pydantic!=1.8,!=1.8.1,<3.0.0,>=1.7.4->spacy>=3.2->scattertext) (0.7.0)\n",
            "Requirement already satisfied: pydantic-core==2.33.1 in /usr/local/lib/python3.11/dist-packages (from pydantic!=1.8,!=1.8.1,<3.0.0,>=1.7.4->spacy>=3.2->scattertext) (2.33.1)\n",
            "Requirement already satisfied: typing-extensions>=4.12.2 in /usr/local/lib/python3.11/dist-packages (from pydantic!=1.8,!=1.8.1,<3.0.0,>=1.7.4->spacy>=3.2->scattertext) (4.13.1)\n",
            "Requirement already satisfied: typing-inspection>=0.4.0 in /usr/local/lib/python3.11/dist-packages (from pydantic!=1.8,!=1.8.1,<3.0.0,>=1.7.4->spacy>=3.2->scattertext) (0.4.0)\n",
            "Requirement already satisfied: six>=1.5 in /usr/local/lib/python3.11/dist-packages (from python-dateutil>=2.8.2->pandas>=2.0.0->scattertext) (1.17.0)\n",
            "Requirement already satisfied: charset-normalizer<4,>=2 in /usr/local/lib/python3.11/dist-packages (from requests<3.0.0,>=2.13.0->spacy>=3.2->scattertext) (3.4.1)\n",
            "Requirement already satisfied: idna<4,>=2.5 in /usr/local/lib/python3.11/dist-packages (from requests<3.0.0,>=2.13.0->spacy>=3.2->scattertext) (3.10)\n",
            "Requirement already satisfied: urllib3<3,>=1.21.1 in /usr/local/lib/python3.11/dist-packages (from requests<3.0.0,>=2.13.0->spacy>=3.2->scattertext) (2.3.0)\n",
            "Requirement already satisfied: certifi>=2017.4.17 in /usr/local/lib/python3.11/dist-packages (from requests<3.0.0,>=2.13.0->spacy>=3.2->scattertext) (2025.1.31)\n",
            "Requirement already satisfied: wrapt in /usr/local/lib/python3.11/dist-packages (from smart-open>=1.8.1->gensim>=4.0.0->scattertext) (1.17.2)\n",
            "Requirement already satisfied: blis<1.3.0,>=1.2.0 in /usr/local/lib/python3.11/dist-packages (from thinc<8.4.0,>=8.3.4->spacy>=3.2->scattertext) (1.2.1)\n",
            "Requirement already satisfied: confection<1.0.0,>=0.0.1 in /usr/local/lib/python3.11/dist-packages (from thinc<8.4.0,>=8.3.4->spacy>=3.2->scattertext) (0.1.5)\n",
            "Requirement already satisfied: click>=8.0.0 in /usr/local/lib/python3.11/dist-packages (from typer<1.0.0,>=0.3.0->spacy>=3.2->scattertext) (8.1.8)\n",
            "Requirement already satisfied: shellingham>=1.3.0 in /usr/local/lib/python3.11/dist-packages (from typer<1.0.0,>=0.3.0->spacy>=3.2->scattertext) (1.5.4)\n",
            "Requirement already satisfied: rich>=10.11.0 in /usr/local/lib/python3.11/dist-packages (from typer<1.0.0,>=0.3.0->spacy>=3.2->scattertext) (13.9.4)\n",
            "Requirement already satisfied: cloudpathlib<1.0.0,>=0.7.0 in /usr/local/lib/python3.11/dist-packages (from weasel<0.5.0,>=0.1.0->spacy>=3.2->scattertext) (0.21.0)\n",
            "Requirement already satisfied: MarkupSafe>=2.0 in /usr/local/lib/python3.11/dist-packages (from jinja2->spacy>=3.2->scattertext) (3.0.2)\n",
            "Requirement already satisfied: marisa-trie>=1.1.0 in /usr/local/lib/python3.11/dist-packages (from language-data>=1.2->langcodes<4.0.0,>=3.2.0->spacy>=3.2->scattertext) (1.2.1)\n",
            "Requirement already satisfied: markdown-it-py>=2.2.0 in /usr/local/lib/python3.11/dist-packages (from rich>=10.11.0->typer<1.0.0,>=0.3.0->spacy>=3.2->scattertext) (3.0.0)\n",
            "Requirement already satisfied: pygments<3.0.0,>=2.13.0 in /usr/local/lib/python3.11/dist-packages (from rich>=10.11.0->typer<1.0.0,>=0.3.0->spacy>=3.2->scattertext) (2.18.0)\n",
            "Requirement already satisfied: mdurl~=0.1 in /usr/local/lib/python3.11/dist-packages (from markdown-it-py>=2.2.0->rich>=10.11.0->typer<1.0.0,>=0.3.0->spacy>=3.2->scattertext) (0.1.2)\n",
            "Downloading scattertext-0.2.2-py3-none-any.whl (9.4 MB)\n",
            "\u001b[2K   \u001b[90m━━━━━━━━━━━━━━━━━━━━━━━━━━━━━━━━━━━━━━━━\u001b[0m \u001b[32m9.4/9.4 MB\u001b[0m \u001b[31m23.8 MB/s\u001b[0m eta \u001b[36m0:00:00\u001b[0m\n",
            "\u001b[?25hDownloading gensim-4.3.3-cp311-cp311-manylinux_2_17_x86_64.manylinux2014_x86_64.whl (26.7 MB)\n",
            "\u001b[2K   \u001b[90m━━━━━━━━━━━━━━━━━━━━━━━━━━━━━━━━━━━━━━━━\u001b[0m \u001b[32m26.7/26.7 MB\u001b[0m \u001b[31m56.3 MB/s\u001b[0m eta \u001b[36m0:00:00\u001b[0m\n",
            "\u001b[?25hDownloading numpy-1.26.4-cp311-cp311-manylinux_2_17_x86_64.manylinux2014_x86_64.whl (18.3 MB)\n",
            "\u001b[2K   \u001b[90m━━━━━━━━━━━━━━━━━━━━━━━━━━━━━━━━━━━━━━━━\u001b[0m \u001b[32m18.3/18.3 MB\u001b[0m \u001b[31m63.8 MB/s\u001b[0m eta \u001b[36m0:00:00\u001b[0m\n",
            "\u001b[?25hDownloading scipy-1.13.1-cp311-cp311-manylinux_2_17_x86_64.manylinux2014_x86_64.whl (38.6 MB)\n",
            "\u001b[2K   \u001b[90m━━━━━━━━━━━━━━━━━━━━━━━━━━━━━━━━━━━━━━━━\u001b[0m \u001b[32m38.6/38.6 MB\u001b[0m \u001b[31m12.4 MB/s\u001b[0m eta \u001b[36m0:00:00\u001b[0m\n",
            "\u001b[?25hBuilding wheels for collected packages: flashtext\n",
            "  Building wheel for flashtext (setup.py) ... \u001b[?25l\u001b[?25hdone\n",
            "  Created wheel for flashtext: filename=flashtext-2.7-py2.py3-none-any.whl size=9300 sha256=ca7bf512f8f01e06654c85f47eaadb3918c3d24bfea621d70ebcfa1da2f8c692\n",
            "  Stored in directory: /root/.cache/pip/wheels/49/20/47/f03dfa8a7239c54cbc44ff7389eefbf888d2c1873edaaec888\n",
            "Successfully built flashtext\n",
            "Installing collected packages: flashtext, numpy, scipy, gensim, scattertext\n",
            "  Attempting uninstall: numpy\n",
            "    Found existing installation: numpy 2.0.2\n",
            "    Uninstalling numpy-2.0.2:\n",
            "      Successfully uninstalled numpy-2.0.2\n",
            "  Attempting uninstall: scipy\n",
            "    Found existing installation: scipy 1.14.1\n",
            "    Uninstalling scipy-1.14.1:\n",
            "      Successfully uninstalled scipy-1.14.1\n",
            "Successfully installed flashtext-2.7 gensim-4.3.3 numpy-1.26.4 scattertext-0.2.2 scipy-1.13.1\n"
          ]
        }
      ]
    },
    {
      "cell_type": "code",
      "source": [
        "import pandas as pd\n",
        "\n",
        "# Load your dataset\n",
        "df = pd.read_csv('/content/drive/MyDrive/Colab Notebooks/FinalProjectApps/dataset/hatespeech_cleaned.csv')\n",
        "#df_downsampled = df.sample(frac=0.4, random_state=42)  # frac=0.4 means 40% of the data ()\n",
        "print(df.head())"
      ],
      "metadata": {
        "colab": {
          "base_uri": "https://localhost:8080/"
        },
        "id": "Jd49uz9TQbIG",
        "outputId": "99877425-9568-4cd4-f429-537e63fb1a95"
      },
      "execution_count": null,
      "outputs": [
        {
          "output_type": "stream",
          "name": "stdout",
          "text": [
            "                                                text  labels\n",
            "0  tan tan feministas invisibilizaban constanteme...     0.0\n",
            "1  user user user carga q convirti 2da vuelta gob...     0.0\n",
            "2  , sabrn femiorcas user flaiterio mapuchento , ...     1.0\n",
            "3  user user user user vecina tenia ver flaiterio...     0.0\n",
            "4                      user debajo piedra flaiterio?     0.0\n"
          ]
        }
      ]
    },
    {
      "cell_type": "code",
      "source": [
        "import scattertext as st\n",
        "import spacy\n",
        "from pprint import pprint"
      ],
      "metadata": {
        "id": "XM8PJjUGQhjn"
      },
      "execution_count": null,
      "outputs": []
    },
    {
      "cell_type": "code",
      "source": [
        "# Create the corpus\n",
        "corpus = st.CorpusFromPandas(df, category_col='labels', text_col='text').build()"
      ],
      "metadata": {
        "id": "TfhKssxe7N24"
      },
      "execution_count": null,
      "outputs": []
    },
    {
      "cell_type": "code",
      "source": [
        "term_freq_df = corpus.get_term_freq_df()\n",
        "\n",
        "print(term_freq_df.head(40))\n",
        "\n",
        "#words in your corpus for two categories: \"Hate Speech\" (1.0) and \"Non-Hate Speech\" (0.0). Each row corresponds to a specific term (word or phrase) and the frequency with which that term occurs in both categories."
      ],
      "metadata": {
        "colab": {
          "base_uri": "https://localhost:8080/"
        },
        "id": "H0Ol-FnNREif",
        "outputId": "7cf6d9f6-2db6-4acf-f5f1-e372572f1f75"
      },
      "execution_count": null,
      "outputs": [
        {
          "output_type": "stream",
          "name": "stdout",
          "text": [
            "                                0.0 freq  1.0 freq\n",
            "term                                              \n",
            "tan                                  560       161\n",
            "feministas                            92        46\n",
            "invisibilizaban                        1         0\n",
            "constantemente                         8         2\n",
            "trabajadoras                           8         0\n",
            "sexuales                              29         8\n",
            "hacindole                              5         1\n",
            "creer                                 62        11\n",
            "mundo                                355        99\n",
            "incapaces                              8         2\n",
            "decidir                               18         6\n",
            "cada                                 278        75\n",
            "vez                                  526       140\n",
            "ejercan                                1         0\n",
            "derecho                              135        30\n",
            "hacerlo                               47         5\n",
            "siendo                               161        41\n",
            "violadas                               7         3\n",
            "tan tan                                7         0\n",
            "tan feministas                         1         0\n",
            "feministas invisibilizaban             1         0\n",
            "invisibilizaban constantemente         1         0\n",
            "constantemente trabajadoras            1         0\n",
            "trabajadoras sexuales                  3         0\n",
            "sexuales hacindole                     1         0\n",
            "hacindole creer                        2         0\n",
            "creer mundo                            1         0\n",
            "mundo incapaces                        1         0\n",
            "incapaces decidir                      1         0\n",
            "decidir cada                           1         0\n",
            "cada vez                              82        28\n",
            "vez ejercan                            1         0\n",
            "ejercan derecho                        1         0\n",
            "derecho hacerlo                        1         0\n",
            "hacerlo siendo                         1         0\n",
            "siendo violadas                        1         0\n",
            "user                               19770      6996\n",
            "carga                                 25         0\n",
            "q                                   1231       431\n",
            "convirti                              10         0\n"
          ]
        }
      ]
    },
    {
      "cell_type": "code",
      "source": [
        "#Get scaled F-scores\n",
        "term_freq_df['hate_speech'] = corpus.get_scaled_f_scores('1.0')  #For hate speech class\n",
        "\n",
        "#Sort the terms by the score\n",
        "sorted_terms = term_freq_df.sort_values(by='hate_speech', ascending=False)\n",
        "\n",
        "#View the top 10 terms for hate speech\n",
        "print(list(sorted_terms.index[:10]))\n"
      ],
      "metadata": {
        "colab": {
          "base_uri": "https://localhost:8080/"
        },
        "id": "8MF4unsmRo4v",
        "outputId": "3f57ca65-03af-4e55-f7c8-487973f5a53d"
      },
      "execution_count": null,
      "outputs": [
        {
          "output_type": "stream",
          "name": "stdout",
          "text": [
            "['cllate perra', 'payasa', 'joto', 'sudacas', 'callate zorra', 'feminazis', 't perra', 'pattica', 'cllate zorra', 'manteros']\n"
          ]
        }
      ]
    },
    {
      "cell_type": "code",
      "source": [
        "#Get scaled F-scores\n",
        "term_freq_df['non_hate_speech'] = corpus.get_scaled_f_scores('0.0')  # For non-hate speech class\n",
        "\n",
        "#Sort the terms by the score\n",
        "sorted_terms = term_freq_df.sort_values(by='non_hate_speech', ascending=False)\n",
        "\n",
        "#View the top 10 terms for hate speech\n",
        "print(list(sorted_terms.index[:10]))"
      ],
      "metadata": {
        "colab": {
          "base_uri": "https://localhost:8080/"
        },
        "id": "t6LZJo2_RxQG",
        "outputId": "1913b540-2606-4fec-f580-0679497d9e08"
      },
      "execution_count": null,
      "outputs": [
        {
          "output_type": "stream",
          "name": "stdout",
          "text": [
            "['maripan', 'ctm', 'refugiadas', 'aweonao', 'bolsonaro', '|', 'arandina', 'culiao', 'culiaos', 'weon']\n"
          ]
        }
      ]
    },
    {
      "cell_type": "markdown",
      "source": [
        "VISUALIZATION"
      ],
      "metadata": {
        "id": "knZo8Nj6F7fJ"
      }
    },
    {
      "cell_type": "code",
      "source": [
        "#Generate the Scattertext explorer visualization with a different setup\n",
        "html = st.produce_scattertext_explorer(corpus,\n",
        "                                       category='0.0',\n",
        "                                       category_name='Non-Hate Speech',  #name for the 'non-hate speech' category\n",
        "                                       not_category_name='Hate Speech',  #name for the 'hate speech' category\n",
        "                                       width_in_pixels=1200,  #adjust the width\n",
        "                                       metadata=df['text'])\n",
        "\n",
        "#Save the HTML output\n",
        "with open(\"scattertext_alternate_output.html\", \"w\") as f:\n",
        "    f.write(html)\n",
        "\n"
      ],
      "metadata": {
        "id": "Eyi1ujPGDsHW"
      },
      "execution_count": null,
      "outputs": []
    },
    {
      "cell_type": "code",
      "source": [
        "from google.colab import files\n",
        "\n",
        "#Move the file to the appropriate location (optional)\n",
        "files.download(\"scattertext_alternate_output.html\")"
      ],
      "metadata": {
        "colab": {
          "base_uri": "https://localhost:8080/",
          "height": 17
        },
        "id": "dzTyh8EGD-Pj",
        "outputId": "ccdcedd9-7e4f-4afd-8fc2-2568655b24dc"
      },
      "execution_count": null,
      "outputs": [
        {
          "output_type": "display_data",
          "data": {
            "text/plain": [
              "<IPython.core.display.Javascript object>"
            ],
            "application/javascript": [
              "\n",
              "    async function download(id, filename, size) {\n",
              "      if (!google.colab.kernel.accessAllowed) {\n",
              "        return;\n",
              "      }\n",
              "      const div = document.createElement('div');\n",
              "      const label = document.createElement('label');\n",
              "      label.textContent = `Downloading \"${filename}\": `;\n",
              "      div.appendChild(label);\n",
              "      const progress = document.createElement('progress');\n",
              "      progress.max = size;\n",
              "      div.appendChild(progress);\n",
              "      document.body.appendChild(div);\n",
              "\n",
              "      const buffers = [];\n",
              "      let downloaded = 0;\n",
              "\n",
              "      const channel = await google.colab.kernel.comms.open(id);\n",
              "      // Send a message to notify the kernel that we're ready.\n",
              "      channel.send({})\n",
              "\n",
              "      for await (const message of channel.messages) {\n",
              "        // Send a message to notify the kernel that we're ready.\n",
              "        channel.send({})\n",
              "        if (message.buffers) {\n",
              "          for (const buffer of message.buffers) {\n",
              "            buffers.push(buffer);\n",
              "            downloaded += buffer.byteLength;\n",
              "            progress.value = downloaded;\n",
              "          }\n",
              "        }\n",
              "      }\n",
              "      const blob = new Blob(buffers, {type: 'application/binary'});\n",
              "      const a = document.createElement('a');\n",
              "      a.href = window.URL.createObjectURL(blob);\n",
              "      a.download = filename;\n",
              "      div.appendChild(a);\n",
              "      a.click();\n",
              "      div.remove();\n",
              "    }\n",
              "  "
            ]
          },
          "metadata": {}
        },
        {
          "output_type": "display_data",
          "data": {
            "text/plain": [
              "<IPython.core.display.Javascript object>"
            ],
            "application/javascript": [
              "download(\"download_eab4a4e6-c0c1-4088-85d0-3bc42318f92e\", \"scattertext_alternate_output.html\", 8021889)"
            ]
          },
          "metadata": {}
        }
      ]
    },
    {
      "cell_type": "markdown",
      "source": [
        "![visualization.JPG](data:image/jpeg;base64,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)"
      ],
      "metadata": {
        "id": "KTU6p2Tej84R"
      }
    }
  ]
}